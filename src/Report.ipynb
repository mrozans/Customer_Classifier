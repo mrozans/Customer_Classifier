{
 "cells": [
  {
   "cell_type": "code",
   "execution_count": 144,
   "metadata": {},
   "outputs": [],
   "source": [
    "import pandas as pd\n",
    "import numpy as np\n",
    "from sklearn import datasets, linear_model"
   ]
  },
  {
   "cell_type": "code",
   "execution_count": 145,
   "metadata": {},
   "outputs": [],
   "source": [
    "products_data_types = {\n",
    "    'product_id': 'int64',\n",
    "    'product_name': 'object',\n",
    "    'category_path': 'object',\n",
    "    'price': 'float64'\n",
    "}\n",
    "\n",
    "products_df = pd.read_json('../data/products.jsonl', 'records', dtype= products_data_types, lines=True)\n",
    "categories = []\n",
    "for i in products_df['category_path']:\n",
    "    category = i\n",
    "    category = category.split(';')\n",
    "    for j in category:\n",
    "        if j not in categories:\n",
    "            categories.append(j)\n",
    "            \n",
    "for k in categories:\n",
    "    products_df[k] = np.where(products_df['category_path'].str.contains(k), 1, 0)\n",
    "\n",
    "products_df = products_df.drop('category_path', axis= 1)"
   ]
  },
  {
   "cell_type": "code",
   "execution_count": 146,
   "metadata": {},
   "outputs": [],
   "source": [
    "sessions_data_types = {\n",
    "    'session_id': 'int64',\n",
    "    'timestamp': 'object',\n",
    "    'user_id': 'int64',\n",
    "    'product_id': 'int64',\n",
    "    'event_type': 'object',\n",
    "    'offered_discount': 'int64',\n",
    "    'purchase_id': 'int64'\n",
    "}\n",
    "\n",
    "sessions_df = pd.read_json('../data/sessions.jsonl', 'records', dtype= sessions_data_types, lines=True)\n",
    "sessions_df['timestamp'] = pd.to_datetime(sessions_df['timestamp'], format= '%Y-%m-%d %H:%M:%S')\n",
    "sessions_df = pd.get_dummies(sessions_df, columns= ['event_type'])"
   ]
  },
  {
   "cell_type": "code",
   "execution_count": 147,
   "metadata": {},
   "outputs": [],
   "source": [
    "users_data_types = {\n",
    "    'user_id': 'int64',\n",
    "    'name': 'object',\n",
    "    'city': 'object',\n",
    "    'street': 'object'\n",
    "}\n",
    "\n",
    "users_df = pd.read_json('../data/users.jsonl', 'records', dtype= users_data_types, lines= True)\n",
    "users_df = pd.get_dummies(users_df, columns= ['city'])"
   ]
  },
  {
   "cell_type": "code",
   "execution_count": 148,
   "metadata": {},
   "outputs": [
    {
     "data": {
      "text/plain": "     product_id                                    product_name        price  \\\n0          1001                   Telefon Siemens Gigaset DA310        58.97   \n1          1002                              Kyocera FS-1135MFP      2048.50   \n2          1003                              Kyocera FS-3640MFP      7639.00   \n3          1004                            Fallout 3 (Xbox 360)        49.99   \n4          1005  Szalone Króliki Na żywo i w kolorze (Xbox 360)        49.99   \n..          ...                                             ...          ...   \n314        1315                                      Jabra Talk  54990000.00   \n315        1316                      Plantronics Voyager Legend      -249.00   \n316        1317                           Plantronics Savi W740      1303.96   \n317        1318                           Plantronics Savi W710       553.00   \n318        1319                                     HTC HS-S200        14.99   \n\n     Telefony i akcesoria  Telefony stacjonarne  Komputery  \\\n0                       1                     1          0   \n1                       0                     0          1   \n2                       0                     0          1   \n3                       0                     0          0   \n4                       0                     0          0   \n..                    ...                   ...        ...   \n314                     1                     0          0   \n315                     1                     0          0   \n316                     1                     0          0   \n317                     0                     0          0   \n318                     1                     0          0   \n\n     Drukarki i skanery  Biurowe urządzenia wielofunkcyjne  Gry i konsole  \\\n0                     0                                  0              0   \n1                     1                                  1              0   \n2                     1                                  1              0   \n3                     0                                  0              1   \n4                     0                                  0              1   \n..                  ...                                ...            ...   \n314                   0                                  0              0   \n315                   0                                  0              0   \n316                   0                                  0              0   \n317                   0                                  0              0   \n318                   0                                  0              0   \n\n     Gry na konsole  ...  Tablety i akcesoria  Tablety  \\\n0                 0  ...                    0        0   \n1                 0  ...                    0        0   \n2                 0  ...                    0        0   \n3                 1  ...                    0        0   \n4                 1  ...                    0        0   \n..              ...  ...                  ...      ...   \n314               0  ...                    0        0   \n315               0  ...                    0        0   \n316               0  ...                    0        0   \n317               0  ...                    0        0   \n318               0  ...                    0        0   \n\n     Przenośne audio i video  Odtwarzacze mp3 i mp4  Telewizory i akcesoria  \\\n0                          0                      0                       0   \n1                          0                      0                       0   \n2                          0                      0                       0   \n3                          0                      0                       0   \n4                          0                      0                       0   \n..                       ...                    ...                     ...   \n314                        0                      0                       0   \n315                        0                      0                       0   \n316                        0                      0                       0   \n317                        0                      0                       0   \n318                        0                      0                       0   \n\n     Okulary 3D  Anteny RTV  Zestawy słuchawkowe  Audio  Słuchawki  \n0             0           0                    0      0          0  \n1             0           0                    0      0          0  \n2             0           0                    0      0          0  \n3             0           0                    0      0          0  \n4             0           0                    0      0          0  \n..          ...         ...                  ...    ...        ...  \n314           0           0                    1      0          0  \n315           0           0                    1      0          0  \n316           0           0                    1      0          0  \n317           0           0                    0      1          1  \n318           0           0                    1      0          0  \n\n[319 rows x 31 columns]",
      "text/html": "<div>\n<style scoped>\n    .dataframe tbody tr th:only-of-type {\n        vertical-align: middle;\n    }\n\n    .dataframe tbody tr th {\n        vertical-align: top;\n    }\n\n    .dataframe thead th {\n        text-align: right;\n    }\n</style>\n<table border=\"1\" class=\"dataframe\">\n  <thead>\n    <tr style=\"text-align: right;\">\n      <th></th>\n      <th>product_id</th>\n      <th>product_name</th>\n      <th>price</th>\n      <th>Telefony i akcesoria</th>\n      <th>Telefony stacjonarne</th>\n      <th>Komputery</th>\n      <th>Drukarki i skanery</th>\n      <th>Biurowe urządzenia wielofunkcyjne</th>\n      <th>Gry i konsole</th>\n      <th>Gry na konsole</th>\n      <th>...</th>\n      <th>Tablety i akcesoria</th>\n      <th>Tablety</th>\n      <th>Przenośne audio i video</th>\n      <th>Odtwarzacze mp3 i mp4</th>\n      <th>Telewizory i akcesoria</th>\n      <th>Okulary 3D</th>\n      <th>Anteny RTV</th>\n      <th>Zestawy słuchawkowe</th>\n      <th>Audio</th>\n      <th>Słuchawki</th>\n    </tr>\n  </thead>\n  <tbody>\n    <tr>\n      <th>0</th>\n      <td>1001</td>\n      <td>Telefon Siemens Gigaset DA310</td>\n      <td>58.97</td>\n      <td>1</td>\n      <td>1</td>\n      <td>0</td>\n      <td>0</td>\n      <td>0</td>\n      <td>0</td>\n      <td>0</td>\n      <td>...</td>\n      <td>0</td>\n      <td>0</td>\n      <td>0</td>\n      <td>0</td>\n      <td>0</td>\n      <td>0</td>\n      <td>0</td>\n      <td>0</td>\n      <td>0</td>\n      <td>0</td>\n    </tr>\n    <tr>\n      <th>1</th>\n      <td>1002</td>\n      <td>Kyocera FS-1135MFP</td>\n      <td>2048.50</td>\n      <td>0</td>\n      <td>0</td>\n      <td>1</td>\n      <td>1</td>\n      <td>1</td>\n      <td>0</td>\n      <td>0</td>\n      <td>...</td>\n      <td>0</td>\n      <td>0</td>\n      <td>0</td>\n      <td>0</td>\n      <td>0</td>\n      <td>0</td>\n      <td>0</td>\n      <td>0</td>\n      <td>0</td>\n      <td>0</td>\n    </tr>\n    <tr>\n      <th>2</th>\n      <td>1003</td>\n      <td>Kyocera FS-3640MFP</td>\n      <td>7639.00</td>\n      <td>0</td>\n      <td>0</td>\n      <td>1</td>\n      <td>1</td>\n      <td>1</td>\n      <td>0</td>\n      <td>0</td>\n      <td>...</td>\n      <td>0</td>\n      <td>0</td>\n      <td>0</td>\n      <td>0</td>\n      <td>0</td>\n      <td>0</td>\n      <td>0</td>\n      <td>0</td>\n      <td>0</td>\n      <td>0</td>\n    </tr>\n    <tr>\n      <th>3</th>\n      <td>1004</td>\n      <td>Fallout 3 (Xbox 360)</td>\n      <td>49.99</td>\n      <td>0</td>\n      <td>0</td>\n      <td>0</td>\n      <td>0</td>\n      <td>0</td>\n      <td>1</td>\n      <td>1</td>\n      <td>...</td>\n      <td>0</td>\n      <td>0</td>\n      <td>0</td>\n      <td>0</td>\n      <td>0</td>\n      <td>0</td>\n      <td>0</td>\n      <td>0</td>\n      <td>0</td>\n      <td>0</td>\n    </tr>\n    <tr>\n      <th>4</th>\n      <td>1005</td>\n      <td>Szalone Króliki Na żywo i w kolorze (Xbox 360)</td>\n      <td>49.99</td>\n      <td>0</td>\n      <td>0</td>\n      <td>0</td>\n      <td>0</td>\n      <td>0</td>\n      <td>1</td>\n      <td>1</td>\n      <td>...</td>\n      <td>0</td>\n      <td>0</td>\n      <td>0</td>\n      <td>0</td>\n      <td>0</td>\n      <td>0</td>\n      <td>0</td>\n      <td>0</td>\n      <td>0</td>\n      <td>0</td>\n    </tr>\n    <tr>\n      <th>...</th>\n      <td>...</td>\n      <td>...</td>\n      <td>...</td>\n      <td>...</td>\n      <td>...</td>\n      <td>...</td>\n      <td>...</td>\n      <td>...</td>\n      <td>...</td>\n      <td>...</td>\n      <td>...</td>\n      <td>...</td>\n      <td>...</td>\n      <td>...</td>\n      <td>...</td>\n      <td>...</td>\n      <td>...</td>\n      <td>...</td>\n      <td>...</td>\n      <td>...</td>\n      <td>...</td>\n    </tr>\n    <tr>\n      <th>314</th>\n      <td>1315</td>\n      <td>Jabra Talk</td>\n      <td>54990000.00</td>\n      <td>1</td>\n      <td>0</td>\n      <td>0</td>\n      <td>0</td>\n      <td>0</td>\n      <td>0</td>\n      <td>0</td>\n      <td>...</td>\n      <td>0</td>\n      <td>0</td>\n      <td>0</td>\n      <td>0</td>\n      <td>0</td>\n      <td>0</td>\n      <td>0</td>\n      <td>1</td>\n      <td>0</td>\n      <td>0</td>\n    </tr>\n    <tr>\n      <th>315</th>\n      <td>1316</td>\n      <td>Plantronics Voyager Legend</td>\n      <td>-249.00</td>\n      <td>1</td>\n      <td>0</td>\n      <td>0</td>\n      <td>0</td>\n      <td>0</td>\n      <td>0</td>\n      <td>0</td>\n      <td>...</td>\n      <td>0</td>\n      <td>0</td>\n      <td>0</td>\n      <td>0</td>\n      <td>0</td>\n      <td>0</td>\n      <td>0</td>\n      <td>1</td>\n      <td>0</td>\n      <td>0</td>\n    </tr>\n    <tr>\n      <th>316</th>\n      <td>1317</td>\n      <td>Plantronics Savi W740</td>\n      <td>1303.96</td>\n      <td>1</td>\n      <td>0</td>\n      <td>0</td>\n      <td>0</td>\n      <td>0</td>\n      <td>0</td>\n      <td>0</td>\n      <td>...</td>\n      <td>0</td>\n      <td>0</td>\n      <td>0</td>\n      <td>0</td>\n      <td>0</td>\n      <td>0</td>\n      <td>0</td>\n      <td>1</td>\n      <td>0</td>\n      <td>0</td>\n    </tr>\n    <tr>\n      <th>317</th>\n      <td>1318</td>\n      <td>Plantronics Savi W710</td>\n      <td>553.00</td>\n      <td>0</td>\n      <td>0</td>\n      <td>0</td>\n      <td>0</td>\n      <td>0</td>\n      <td>0</td>\n      <td>0</td>\n      <td>...</td>\n      <td>0</td>\n      <td>0</td>\n      <td>0</td>\n      <td>0</td>\n      <td>0</td>\n      <td>0</td>\n      <td>0</td>\n      <td>0</td>\n      <td>1</td>\n      <td>1</td>\n    </tr>\n    <tr>\n      <th>318</th>\n      <td>1319</td>\n      <td>HTC HS-S200</td>\n      <td>14.99</td>\n      <td>1</td>\n      <td>0</td>\n      <td>0</td>\n      <td>0</td>\n      <td>0</td>\n      <td>0</td>\n      <td>0</td>\n      <td>...</td>\n      <td>0</td>\n      <td>0</td>\n      <td>0</td>\n      <td>0</td>\n      <td>0</td>\n      <td>0</td>\n      <td>0</td>\n      <td>1</td>\n      <td>0</td>\n      <td>0</td>\n    </tr>\n  </tbody>\n</table>\n<p>319 rows × 31 columns</p>\n</div>"
     },
     "execution_count": 148,
     "metadata": {},
     "output_type": "execute_result"
    }
   ],
   "source": [
    "products_df"
   ]
  },
  {
   "cell_type": "code",
   "execution_count": 149,
   "metadata": {},
   "outputs": [
    {
     "data": {
      "text/plain": "       session_id           timestamp  user_id  product_id  offered_discount  \\\n0          100001 2020-01-15 13:44:51    102.0      1017.0                 0   \n1          100001 2020-01-15 13:48:01    102.0      1025.0                 0   \n2          100001 2020-01-15 13:49:47    102.0      1030.0                 0   \n3          100001 2020-01-15 13:50:34    102.0      1032.0                 0   \n4          100001 2020-01-15 13:52:02    102.0      1033.0                 0   \n...           ...                 ...      ...         ...               ...   \n55105      110273 2020-02-17 03:13:41    301.0      1012.0                15   \n55106      110273 2020-02-17 03:17:18    301.0      1013.0                15   \n55107      110274 2020-02-29 22:45:54      NaN      1001.0                 0   \n55108      110275 2020-01-24 18:01:37    301.0      1283.0                 0   \n55109      110276 2020-03-26 12:37:51    301.0      1283.0                10   \n\n       purchase_id  event_type_BUY_PRODUCT  event_type_VIEW_PRODUCT  \n0              NaN                       0                        1  \n1              NaN                       0                        1  \n2              NaN                       0                        1  \n3              NaN                       0                        1  \n4              NaN                       0                        1  \n...            ...                     ...                      ...  \n55105          NaN                       0                        1  \n55106          NaN                       0                        1  \n55107          NaN                       0                        1  \n55108          NaN                       0                        1  \n55109          NaN                       0                        1  \n\n[55110 rows x 8 columns]",
      "text/html": "<div>\n<style scoped>\n    .dataframe tbody tr th:only-of-type {\n        vertical-align: middle;\n    }\n\n    .dataframe tbody tr th {\n        vertical-align: top;\n    }\n\n    .dataframe thead th {\n        text-align: right;\n    }\n</style>\n<table border=\"1\" class=\"dataframe\">\n  <thead>\n    <tr style=\"text-align: right;\">\n      <th></th>\n      <th>session_id</th>\n      <th>timestamp</th>\n      <th>user_id</th>\n      <th>product_id</th>\n      <th>offered_discount</th>\n      <th>purchase_id</th>\n      <th>event_type_BUY_PRODUCT</th>\n      <th>event_type_VIEW_PRODUCT</th>\n    </tr>\n  </thead>\n  <tbody>\n    <tr>\n      <th>0</th>\n      <td>100001</td>\n      <td>2020-01-15 13:44:51</td>\n      <td>102.0</td>\n      <td>1017.0</td>\n      <td>0</td>\n      <td>NaN</td>\n      <td>0</td>\n      <td>1</td>\n    </tr>\n    <tr>\n      <th>1</th>\n      <td>100001</td>\n      <td>2020-01-15 13:48:01</td>\n      <td>102.0</td>\n      <td>1025.0</td>\n      <td>0</td>\n      <td>NaN</td>\n      <td>0</td>\n      <td>1</td>\n    </tr>\n    <tr>\n      <th>2</th>\n      <td>100001</td>\n      <td>2020-01-15 13:49:47</td>\n      <td>102.0</td>\n      <td>1030.0</td>\n      <td>0</td>\n      <td>NaN</td>\n      <td>0</td>\n      <td>1</td>\n    </tr>\n    <tr>\n      <th>3</th>\n      <td>100001</td>\n      <td>2020-01-15 13:50:34</td>\n      <td>102.0</td>\n      <td>1032.0</td>\n      <td>0</td>\n      <td>NaN</td>\n      <td>0</td>\n      <td>1</td>\n    </tr>\n    <tr>\n      <th>4</th>\n      <td>100001</td>\n      <td>2020-01-15 13:52:02</td>\n      <td>102.0</td>\n      <td>1033.0</td>\n      <td>0</td>\n      <td>NaN</td>\n      <td>0</td>\n      <td>1</td>\n    </tr>\n    <tr>\n      <th>...</th>\n      <td>...</td>\n      <td>...</td>\n      <td>...</td>\n      <td>...</td>\n      <td>...</td>\n      <td>...</td>\n      <td>...</td>\n      <td>...</td>\n    </tr>\n    <tr>\n      <th>55105</th>\n      <td>110273</td>\n      <td>2020-02-17 03:13:41</td>\n      <td>301.0</td>\n      <td>1012.0</td>\n      <td>15</td>\n      <td>NaN</td>\n      <td>0</td>\n      <td>1</td>\n    </tr>\n    <tr>\n      <th>55106</th>\n      <td>110273</td>\n      <td>2020-02-17 03:17:18</td>\n      <td>301.0</td>\n      <td>1013.0</td>\n      <td>15</td>\n      <td>NaN</td>\n      <td>0</td>\n      <td>1</td>\n    </tr>\n    <tr>\n      <th>55107</th>\n      <td>110274</td>\n      <td>2020-02-29 22:45:54</td>\n      <td>NaN</td>\n      <td>1001.0</td>\n      <td>0</td>\n      <td>NaN</td>\n      <td>0</td>\n      <td>1</td>\n    </tr>\n    <tr>\n      <th>55108</th>\n      <td>110275</td>\n      <td>2020-01-24 18:01:37</td>\n      <td>301.0</td>\n      <td>1283.0</td>\n      <td>0</td>\n      <td>NaN</td>\n      <td>0</td>\n      <td>1</td>\n    </tr>\n    <tr>\n      <th>55109</th>\n      <td>110276</td>\n      <td>2020-03-26 12:37:51</td>\n      <td>301.0</td>\n      <td>1283.0</td>\n      <td>10</td>\n      <td>NaN</td>\n      <td>0</td>\n      <td>1</td>\n    </tr>\n  </tbody>\n</table>\n<p>55110 rows × 8 columns</p>\n</div>"
     },
     "execution_count": 149,
     "metadata": {},
     "output_type": "execute_result"
    }
   ],
   "source": [
    "sessions_df"
   ]
  },
  {
   "cell_type": "code",
   "execution_count": 150,
   "metadata": {},
   "outputs": [
    {
     "data": {
      "text/plain": "     user_id               name                street  city_Gdynia  \\\n0        102   Agnieszka Heczko  al. Malczewskiego 43            0   \n1        103   Sandra Ostapczuk      ul. Błękitna 352            0   \n2        104        Kamila Buza          pl. Orla 450            0   \n3        105        Alan Daniec          ul. Reja 326            1   \n4        106     Natasza Pasiut     al. Poziomkowa 43            0   \n..       ...                ...                   ...          ...   \n195      297  Igor Gryszkiewicz    plac Pułaskiego 26            0   \n196      298       Maurycy Klęk     aleja Średnia 817            0   \n197      299      Ada Malcharek  ulica Sikorskiego 14            0   \n198      300  Kajetan Kuropatwa     ulica Złota 76/64            0   \n199      301     Stefan Suchora     aleja Brzechwy 23            0   \n\n     city_Konin  city_Kutno  city_Mielec  city_Police  city_Radom  \\\n0             0           1            0            0           0   \n1             0           0            0            0           1   \n2             0           0            0            0           0   \n3             0           0            0            0           0   \n4             0           0            0            0           1   \n..          ...         ...          ...          ...         ...   \n195           0           0            0            0           0   \n196           0           0            0            0           1   \n197           0           0            1            0           0   \n198           0           0            1            0           0   \n199           0           0            0            1           0   \n\n     city_Szczecin  city_Warszawa  \n0                0              0  \n1                0              0  \n2                0              1  \n3                0              0  \n4                0              0  \n..             ...            ...  \n195              0              1  \n196              0              0  \n197              0              0  \n198              0              0  \n199              0              0  \n\n[200 rows x 11 columns]",
      "text/html": "<div>\n<style scoped>\n    .dataframe tbody tr th:only-of-type {\n        vertical-align: middle;\n    }\n\n    .dataframe tbody tr th {\n        vertical-align: top;\n    }\n\n    .dataframe thead th {\n        text-align: right;\n    }\n</style>\n<table border=\"1\" class=\"dataframe\">\n  <thead>\n    <tr style=\"text-align: right;\">\n      <th></th>\n      <th>user_id</th>\n      <th>name</th>\n      <th>street</th>\n      <th>city_Gdynia</th>\n      <th>city_Konin</th>\n      <th>city_Kutno</th>\n      <th>city_Mielec</th>\n      <th>city_Police</th>\n      <th>city_Radom</th>\n      <th>city_Szczecin</th>\n      <th>city_Warszawa</th>\n    </tr>\n  </thead>\n  <tbody>\n    <tr>\n      <th>0</th>\n      <td>102</td>\n      <td>Agnieszka Heczko</td>\n      <td>al. Malczewskiego 43</td>\n      <td>0</td>\n      <td>0</td>\n      <td>1</td>\n      <td>0</td>\n      <td>0</td>\n      <td>0</td>\n      <td>0</td>\n      <td>0</td>\n    </tr>\n    <tr>\n      <th>1</th>\n      <td>103</td>\n      <td>Sandra Ostapczuk</td>\n      <td>ul. Błękitna 352</td>\n      <td>0</td>\n      <td>0</td>\n      <td>0</td>\n      <td>0</td>\n      <td>0</td>\n      <td>1</td>\n      <td>0</td>\n      <td>0</td>\n    </tr>\n    <tr>\n      <th>2</th>\n      <td>104</td>\n      <td>Kamila Buza</td>\n      <td>pl. Orla 450</td>\n      <td>0</td>\n      <td>0</td>\n      <td>0</td>\n      <td>0</td>\n      <td>0</td>\n      <td>0</td>\n      <td>0</td>\n      <td>1</td>\n    </tr>\n    <tr>\n      <th>3</th>\n      <td>105</td>\n      <td>Alan Daniec</td>\n      <td>ul. Reja 326</td>\n      <td>1</td>\n      <td>0</td>\n      <td>0</td>\n      <td>0</td>\n      <td>0</td>\n      <td>0</td>\n      <td>0</td>\n      <td>0</td>\n    </tr>\n    <tr>\n      <th>4</th>\n      <td>106</td>\n      <td>Natasza Pasiut</td>\n      <td>al. Poziomkowa 43</td>\n      <td>0</td>\n      <td>0</td>\n      <td>0</td>\n      <td>0</td>\n      <td>0</td>\n      <td>1</td>\n      <td>0</td>\n      <td>0</td>\n    </tr>\n    <tr>\n      <th>...</th>\n      <td>...</td>\n      <td>...</td>\n      <td>...</td>\n      <td>...</td>\n      <td>...</td>\n      <td>...</td>\n      <td>...</td>\n      <td>...</td>\n      <td>...</td>\n      <td>...</td>\n      <td>...</td>\n    </tr>\n    <tr>\n      <th>195</th>\n      <td>297</td>\n      <td>Igor Gryszkiewicz</td>\n      <td>plac Pułaskiego 26</td>\n      <td>0</td>\n      <td>0</td>\n      <td>0</td>\n      <td>0</td>\n      <td>0</td>\n      <td>0</td>\n      <td>0</td>\n      <td>1</td>\n    </tr>\n    <tr>\n      <th>196</th>\n      <td>298</td>\n      <td>Maurycy Klęk</td>\n      <td>aleja Średnia 817</td>\n      <td>0</td>\n      <td>0</td>\n      <td>0</td>\n      <td>0</td>\n      <td>0</td>\n      <td>1</td>\n      <td>0</td>\n      <td>0</td>\n    </tr>\n    <tr>\n      <th>197</th>\n      <td>299</td>\n      <td>Ada Malcharek</td>\n      <td>ulica Sikorskiego 14</td>\n      <td>0</td>\n      <td>0</td>\n      <td>0</td>\n      <td>1</td>\n      <td>0</td>\n      <td>0</td>\n      <td>0</td>\n      <td>0</td>\n    </tr>\n    <tr>\n      <th>198</th>\n      <td>300</td>\n      <td>Kajetan Kuropatwa</td>\n      <td>ulica Złota 76/64</td>\n      <td>0</td>\n      <td>0</td>\n      <td>0</td>\n      <td>1</td>\n      <td>0</td>\n      <td>0</td>\n      <td>0</td>\n      <td>0</td>\n    </tr>\n    <tr>\n      <th>199</th>\n      <td>301</td>\n      <td>Stefan Suchora</td>\n      <td>aleja Brzechwy 23</td>\n      <td>0</td>\n      <td>0</td>\n      <td>0</td>\n      <td>0</td>\n      <td>1</td>\n      <td>0</td>\n      <td>0</td>\n      <td>0</td>\n    </tr>\n  </tbody>\n</table>\n<p>200 rows × 11 columns</p>\n</div>"
     },
     "execution_count": 150,
     "metadata": {},
     "output_type": "execute_result"
    }
   ],
   "source": [
    "users_df"
   ]
  },
  {
   "cell_type": "markdown",
   "metadata": {},
   "source": [
    "Checking prices of products"
   ]
  },
  {
   "cell_type": "code",
   "execution_count": 151,
   "metadata": {},
   "outputs": [
    {
     "data": {
      "text/plain": "<bound method NDFrame.describe of 0            58.97\n1          2048.50\n2          7639.00\n3            49.99\n4            49.99\n          ...     \n314    54990000.00\n315        -249.00\n316        1303.96\n317         553.00\n318          14.99\nName: price, Length: 319, dtype: float64>"
     },
     "execution_count": 151,
     "metadata": {},
     "output_type": "execute_result"
    }
   ],
   "source": [
    "products_df['price'].describe"
   ]
  },
  {
   "cell_type": "code",
   "execution_count": 152,
   "metadata": {},
   "outputs": [
    {
     "data": {
      "text/plain": "     product_id      product_name        price  Telefony i akcesoria  \\\n147        1148  Iniemamocni (PC)  169000000.0                     0   \n\n     Telefony stacjonarne  Komputery  Drukarki i skanery  \\\n147                     0          0                   0   \n\n     Biurowe urządzenia wielofunkcyjne  Gry i konsole  Gry na konsole  ...  \\\n147                                  0              1               0  ...   \n\n     Tablety i akcesoria  Tablety  Przenośne audio i video  \\\n147                    0        0                        0   \n\n     Odtwarzacze mp3 i mp4  Telewizory i akcesoria  Okulary 3D  Anteny RTV  \\\n147                      0                       0           0           0   \n\n     Zestawy słuchawkowe  Audio  Słuchawki  \n147                    0      0          0  \n\n[1 rows x 31 columns]",
      "text/html": "<div>\n<style scoped>\n    .dataframe tbody tr th:only-of-type {\n        vertical-align: middle;\n    }\n\n    .dataframe tbody tr th {\n        vertical-align: top;\n    }\n\n    .dataframe thead th {\n        text-align: right;\n    }\n</style>\n<table border=\"1\" class=\"dataframe\">\n  <thead>\n    <tr style=\"text-align: right;\">\n      <th></th>\n      <th>product_id</th>\n      <th>product_name</th>\n      <th>price</th>\n      <th>Telefony i akcesoria</th>\n      <th>Telefony stacjonarne</th>\n      <th>Komputery</th>\n      <th>Drukarki i skanery</th>\n      <th>Biurowe urządzenia wielofunkcyjne</th>\n      <th>Gry i konsole</th>\n      <th>Gry na konsole</th>\n      <th>...</th>\n      <th>Tablety i akcesoria</th>\n      <th>Tablety</th>\n      <th>Przenośne audio i video</th>\n      <th>Odtwarzacze mp3 i mp4</th>\n      <th>Telewizory i akcesoria</th>\n      <th>Okulary 3D</th>\n      <th>Anteny RTV</th>\n      <th>Zestawy słuchawkowe</th>\n      <th>Audio</th>\n      <th>Słuchawki</th>\n    </tr>\n  </thead>\n  <tbody>\n    <tr>\n      <th>147</th>\n      <td>1148</td>\n      <td>Iniemamocni (PC)</td>\n      <td>169000000.0</td>\n      <td>0</td>\n      <td>0</td>\n      <td>0</td>\n      <td>0</td>\n      <td>0</td>\n      <td>1</td>\n      <td>0</td>\n      <td>...</td>\n      <td>0</td>\n      <td>0</td>\n      <td>0</td>\n      <td>0</td>\n      <td>0</td>\n      <td>0</td>\n      <td>0</td>\n      <td>0</td>\n      <td>0</td>\n      <td>0</td>\n    </tr>\n  </tbody>\n</table>\n<p>1 rows × 31 columns</p>\n</div>"
     },
     "execution_count": 152,
     "metadata": {},
     "output_type": "execute_result"
    }
   ],
   "source": [
    "products_df.loc[products_df['price'] == products_df.max()['price']]"
   ]
  },
  {
   "cell_type": "code",
   "execution_count": 153,
   "metadata": {},
   "outputs": [
    {
     "data": {
      "text/plain": "     product_id                product_name   price  Telefony i akcesoria  \\\n66         1067                  Nokia 3310 -207.33                     1   \n68         1069            LCD NEC EA224WMi -979.00                     0   \n70         1071      LCD Philips 241B4LPYCB -689.00                     0   \n82         1083      MAJESTY ANTOLOGIA (PC)   -8.99                     0   \n84         1085             Dishonored (PC)  -34.99                     0   \n85         1086        Disney Universe (PC)  -24.90                     0   \n91         1092      Company of Heroes (PC)  -34.99                     0   \n132        1133   Symulator Agrar 2012 (PC)  -19.99                     0   \n196        1197       Hearts of Iron 3 (PC)  -15.99                     0   \n205        1206       Hearts of Iron 2 (PC)   -3.59                     0   \n236        1237         Race Injection (PC)  -35.99                     0   \n268        1269             Space Hack (PC)  -19.99                     0   \n271        1272               The Ball (PC)   -1.00                     0   \n299        1300             Vivanco TVA 501 -169.00                     0   \n310        1311         One For All SV 9345 -189.99                     0   \n315        1316  Plantronics Voyager Legend -249.00                     1   \n\n     Telefony stacjonarne  Komputery  Drukarki i skanery  \\\n66                      0          0                   0   \n68                      0          1                   0   \n70                      0          1                   0   \n82                      0          0                   0   \n84                      0          0                   0   \n85                      0          0                   0   \n91                      0          0                   0   \n132                     0          0                   0   \n196                     0          0                   0   \n205                     0          0                   0   \n236                     0          0                   0   \n268                     0          0                   0   \n271                     0          0                   0   \n299                     0          0                   0   \n310                     0          0                   0   \n315                     0          0                   0   \n\n     Biurowe urządzenia wielofunkcyjne  Gry i konsole  Gry na konsole  ...  \\\n66                                   0              0               0  ...   \n68                                   0              0               0  ...   \n70                                   0              0               0  ...   \n82                                   0              1               0  ...   \n84                                   0              1               0  ...   \n85                                   0              1               0  ...   \n91                                   0              1               0  ...   \n132                                  0              1               0  ...   \n196                                  0              1               0  ...   \n205                                  0              1               0  ...   \n236                                  0              1               0  ...   \n268                                  0              1               0  ...   \n271                                  0              1               0  ...   \n299                                  0              0               0  ...   \n310                                  0              0               0  ...   \n315                                  0              0               0  ...   \n\n     Tablety i akcesoria  Tablety  Przenośne audio i video  \\\n66                     0        0                        0   \n68                     0        0                        0   \n70                     0        0                        0   \n82                     0        0                        0   \n84                     0        0                        0   \n85                     0        0                        0   \n91                     0        0                        0   \n132                    0        0                        0   \n196                    0        0                        0   \n205                    0        0                        0   \n236                    0        0                        0   \n268                    0        0                        0   \n271                    0        0                        0   \n299                    0        0                        0   \n310                    0        0                        0   \n315                    0        0                        0   \n\n     Odtwarzacze mp3 i mp4  Telewizory i akcesoria  Okulary 3D  Anteny RTV  \\\n66                       0                       0           0           0   \n68                       0                       0           0           0   \n70                       0                       0           0           0   \n82                       0                       0           0           0   \n84                       0                       0           0           0   \n85                       0                       0           0           0   \n91                       0                       0           0           0   \n132                      0                       0           0           0   \n196                      0                       0           0           0   \n205                      0                       0           0           0   \n236                      0                       0           0           0   \n268                      0                       0           0           0   \n271                      0                       0           0           0   \n299                      0                       1           0           1   \n310                      0                       1           0           1   \n315                      0                       0           0           0   \n\n     Zestawy słuchawkowe  Audio  Słuchawki  \n66                     0      0          0  \n68                     0      0          0  \n70                     0      0          0  \n82                     0      0          0  \n84                     0      0          0  \n85                     0      0          0  \n91                     0      0          0  \n132                    0      0          0  \n196                    0      0          0  \n205                    0      0          0  \n236                    0      0          0  \n268                    0      0          0  \n271                    0      0          0  \n299                    0      0          0  \n310                    0      0          0  \n315                    1      0          0  \n\n[16 rows x 31 columns]",
      "text/html": "<div>\n<style scoped>\n    .dataframe tbody tr th:only-of-type {\n        vertical-align: middle;\n    }\n\n    .dataframe tbody tr th {\n        vertical-align: top;\n    }\n\n    .dataframe thead th {\n        text-align: right;\n    }\n</style>\n<table border=\"1\" class=\"dataframe\">\n  <thead>\n    <tr style=\"text-align: right;\">\n      <th></th>\n      <th>product_id</th>\n      <th>product_name</th>\n      <th>price</th>\n      <th>Telefony i akcesoria</th>\n      <th>Telefony stacjonarne</th>\n      <th>Komputery</th>\n      <th>Drukarki i skanery</th>\n      <th>Biurowe urządzenia wielofunkcyjne</th>\n      <th>Gry i konsole</th>\n      <th>Gry na konsole</th>\n      <th>...</th>\n      <th>Tablety i akcesoria</th>\n      <th>Tablety</th>\n      <th>Przenośne audio i video</th>\n      <th>Odtwarzacze mp3 i mp4</th>\n      <th>Telewizory i akcesoria</th>\n      <th>Okulary 3D</th>\n      <th>Anteny RTV</th>\n      <th>Zestawy słuchawkowe</th>\n      <th>Audio</th>\n      <th>Słuchawki</th>\n    </tr>\n  </thead>\n  <tbody>\n    <tr>\n      <th>66</th>\n      <td>1067</td>\n      <td>Nokia 3310</td>\n      <td>-207.33</td>\n      <td>1</td>\n      <td>0</td>\n      <td>0</td>\n      <td>0</td>\n      <td>0</td>\n      <td>0</td>\n      <td>0</td>\n      <td>...</td>\n      <td>0</td>\n      <td>0</td>\n      <td>0</td>\n      <td>0</td>\n      <td>0</td>\n      <td>0</td>\n      <td>0</td>\n      <td>0</td>\n      <td>0</td>\n      <td>0</td>\n    </tr>\n    <tr>\n      <th>68</th>\n      <td>1069</td>\n      <td>LCD NEC EA224WMi</td>\n      <td>-979.00</td>\n      <td>0</td>\n      <td>0</td>\n      <td>1</td>\n      <td>0</td>\n      <td>0</td>\n      <td>0</td>\n      <td>0</td>\n      <td>...</td>\n      <td>0</td>\n      <td>0</td>\n      <td>0</td>\n      <td>0</td>\n      <td>0</td>\n      <td>0</td>\n      <td>0</td>\n      <td>0</td>\n      <td>0</td>\n      <td>0</td>\n    </tr>\n    <tr>\n      <th>70</th>\n      <td>1071</td>\n      <td>LCD Philips 241B4LPYCB</td>\n      <td>-689.00</td>\n      <td>0</td>\n      <td>0</td>\n      <td>1</td>\n      <td>0</td>\n      <td>0</td>\n      <td>0</td>\n      <td>0</td>\n      <td>...</td>\n      <td>0</td>\n      <td>0</td>\n      <td>0</td>\n      <td>0</td>\n      <td>0</td>\n      <td>0</td>\n      <td>0</td>\n      <td>0</td>\n      <td>0</td>\n      <td>0</td>\n    </tr>\n    <tr>\n      <th>82</th>\n      <td>1083</td>\n      <td>MAJESTY ANTOLOGIA (PC)</td>\n      <td>-8.99</td>\n      <td>0</td>\n      <td>0</td>\n      <td>0</td>\n      <td>0</td>\n      <td>0</td>\n      <td>1</td>\n      <td>0</td>\n      <td>...</td>\n      <td>0</td>\n      <td>0</td>\n      <td>0</td>\n      <td>0</td>\n      <td>0</td>\n      <td>0</td>\n      <td>0</td>\n      <td>0</td>\n      <td>0</td>\n      <td>0</td>\n    </tr>\n    <tr>\n      <th>84</th>\n      <td>1085</td>\n      <td>Dishonored (PC)</td>\n      <td>-34.99</td>\n      <td>0</td>\n      <td>0</td>\n      <td>0</td>\n      <td>0</td>\n      <td>0</td>\n      <td>1</td>\n      <td>0</td>\n      <td>...</td>\n      <td>0</td>\n      <td>0</td>\n      <td>0</td>\n      <td>0</td>\n      <td>0</td>\n      <td>0</td>\n      <td>0</td>\n      <td>0</td>\n      <td>0</td>\n      <td>0</td>\n    </tr>\n    <tr>\n      <th>85</th>\n      <td>1086</td>\n      <td>Disney Universe (PC)</td>\n      <td>-24.90</td>\n      <td>0</td>\n      <td>0</td>\n      <td>0</td>\n      <td>0</td>\n      <td>0</td>\n      <td>1</td>\n      <td>0</td>\n      <td>...</td>\n      <td>0</td>\n      <td>0</td>\n      <td>0</td>\n      <td>0</td>\n      <td>0</td>\n      <td>0</td>\n      <td>0</td>\n      <td>0</td>\n      <td>0</td>\n      <td>0</td>\n    </tr>\n    <tr>\n      <th>91</th>\n      <td>1092</td>\n      <td>Company of Heroes (PC)</td>\n      <td>-34.99</td>\n      <td>0</td>\n      <td>0</td>\n      <td>0</td>\n      <td>0</td>\n      <td>0</td>\n      <td>1</td>\n      <td>0</td>\n      <td>...</td>\n      <td>0</td>\n      <td>0</td>\n      <td>0</td>\n      <td>0</td>\n      <td>0</td>\n      <td>0</td>\n      <td>0</td>\n      <td>0</td>\n      <td>0</td>\n      <td>0</td>\n    </tr>\n    <tr>\n      <th>132</th>\n      <td>1133</td>\n      <td>Symulator Agrar 2012 (PC)</td>\n      <td>-19.99</td>\n      <td>0</td>\n      <td>0</td>\n      <td>0</td>\n      <td>0</td>\n      <td>0</td>\n      <td>1</td>\n      <td>0</td>\n      <td>...</td>\n      <td>0</td>\n      <td>0</td>\n      <td>0</td>\n      <td>0</td>\n      <td>0</td>\n      <td>0</td>\n      <td>0</td>\n      <td>0</td>\n      <td>0</td>\n      <td>0</td>\n    </tr>\n    <tr>\n      <th>196</th>\n      <td>1197</td>\n      <td>Hearts of Iron 3 (PC)</td>\n      <td>-15.99</td>\n      <td>0</td>\n      <td>0</td>\n      <td>0</td>\n      <td>0</td>\n      <td>0</td>\n      <td>1</td>\n      <td>0</td>\n      <td>...</td>\n      <td>0</td>\n      <td>0</td>\n      <td>0</td>\n      <td>0</td>\n      <td>0</td>\n      <td>0</td>\n      <td>0</td>\n      <td>0</td>\n      <td>0</td>\n      <td>0</td>\n    </tr>\n    <tr>\n      <th>205</th>\n      <td>1206</td>\n      <td>Hearts of Iron 2 (PC)</td>\n      <td>-3.59</td>\n      <td>0</td>\n      <td>0</td>\n      <td>0</td>\n      <td>0</td>\n      <td>0</td>\n      <td>1</td>\n      <td>0</td>\n      <td>...</td>\n      <td>0</td>\n      <td>0</td>\n      <td>0</td>\n      <td>0</td>\n      <td>0</td>\n      <td>0</td>\n      <td>0</td>\n      <td>0</td>\n      <td>0</td>\n      <td>0</td>\n    </tr>\n    <tr>\n      <th>236</th>\n      <td>1237</td>\n      <td>Race Injection (PC)</td>\n      <td>-35.99</td>\n      <td>0</td>\n      <td>0</td>\n      <td>0</td>\n      <td>0</td>\n      <td>0</td>\n      <td>1</td>\n      <td>0</td>\n      <td>...</td>\n      <td>0</td>\n      <td>0</td>\n      <td>0</td>\n      <td>0</td>\n      <td>0</td>\n      <td>0</td>\n      <td>0</td>\n      <td>0</td>\n      <td>0</td>\n      <td>0</td>\n    </tr>\n    <tr>\n      <th>268</th>\n      <td>1269</td>\n      <td>Space Hack (PC)</td>\n      <td>-19.99</td>\n      <td>0</td>\n      <td>0</td>\n      <td>0</td>\n      <td>0</td>\n      <td>0</td>\n      <td>1</td>\n      <td>0</td>\n      <td>...</td>\n      <td>0</td>\n      <td>0</td>\n      <td>0</td>\n      <td>0</td>\n      <td>0</td>\n      <td>0</td>\n      <td>0</td>\n      <td>0</td>\n      <td>0</td>\n      <td>0</td>\n    </tr>\n    <tr>\n      <th>271</th>\n      <td>1272</td>\n      <td>The Ball (PC)</td>\n      <td>-1.00</td>\n      <td>0</td>\n      <td>0</td>\n      <td>0</td>\n      <td>0</td>\n      <td>0</td>\n      <td>1</td>\n      <td>0</td>\n      <td>...</td>\n      <td>0</td>\n      <td>0</td>\n      <td>0</td>\n      <td>0</td>\n      <td>0</td>\n      <td>0</td>\n      <td>0</td>\n      <td>0</td>\n      <td>0</td>\n      <td>0</td>\n    </tr>\n    <tr>\n      <th>299</th>\n      <td>1300</td>\n      <td>Vivanco TVA 501</td>\n      <td>-169.00</td>\n      <td>0</td>\n      <td>0</td>\n      <td>0</td>\n      <td>0</td>\n      <td>0</td>\n      <td>0</td>\n      <td>0</td>\n      <td>...</td>\n      <td>0</td>\n      <td>0</td>\n      <td>0</td>\n      <td>0</td>\n      <td>1</td>\n      <td>0</td>\n      <td>1</td>\n      <td>0</td>\n      <td>0</td>\n      <td>0</td>\n    </tr>\n    <tr>\n      <th>310</th>\n      <td>1311</td>\n      <td>One For All SV 9345</td>\n      <td>-189.99</td>\n      <td>0</td>\n      <td>0</td>\n      <td>0</td>\n      <td>0</td>\n      <td>0</td>\n      <td>0</td>\n      <td>0</td>\n      <td>...</td>\n      <td>0</td>\n      <td>0</td>\n      <td>0</td>\n      <td>0</td>\n      <td>1</td>\n      <td>0</td>\n      <td>1</td>\n      <td>0</td>\n      <td>0</td>\n      <td>0</td>\n    </tr>\n    <tr>\n      <th>315</th>\n      <td>1316</td>\n      <td>Plantronics Voyager Legend</td>\n      <td>-249.00</td>\n      <td>1</td>\n      <td>0</td>\n      <td>0</td>\n      <td>0</td>\n      <td>0</td>\n      <td>0</td>\n      <td>0</td>\n      <td>...</td>\n      <td>0</td>\n      <td>0</td>\n      <td>0</td>\n      <td>0</td>\n      <td>0</td>\n      <td>0</td>\n      <td>0</td>\n      <td>1</td>\n      <td>0</td>\n      <td>0</td>\n    </tr>\n  </tbody>\n</table>\n<p>16 rows × 31 columns</p>\n</div>"
     },
     "execution_count": 153,
     "metadata": {},
     "output_type": "execute_result"
    }
   ],
   "source": [
    "products_df.loc[products_df['price'] <= 0]"
   ]
  },
  {
   "cell_type": "code",
   "execution_count": 154,
   "metadata": {},
   "outputs": [
    {
     "data": {
      "text/plain": "     product_id                         product_name        price  \\\n17         1018            Gears of War 3 (Xbox 360)   89990000.0   \n59         1060       Wiedźmin 2 Zabójcy królów (PC)   34990000.0   \n97         1098                          DIRT 3 (PC)   16900000.0   \n106        1107           Rise of the Argonauts (PC)   34990000.0   \n147        1148                     Iniemamocni (PC)  169000000.0   \n176        1177                      Twierdza 3 (PC)   34990000.0   \n182        1183                 GTA San Andreas (PC)   40900000.0   \n183        1184    Men of War Oddział Szturmowy (PC)    4990000.0   \n243        1244                      Hard Reset (PC)    9990000.0   \n244        1245  Warhammer 40.000 Dawn of War 2 (PC)   34990000.0   \n269        1270   Warhammer 40.000 Space Marine (PC)    7900000.0   \n306        1307                  One For All SV 9033   59990000.0   \n314        1315                           Jabra Talk   54990000.0   \n\n     Telefony i akcesoria  Telefony stacjonarne  Komputery  \\\n17                      0                     0          0   \n59                      0                     0          0   \n97                      0                     0          0   \n106                     0                     0          0   \n147                     0                     0          0   \n176                     0                     0          0   \n182                     0                     0          0   \n183                     0                     0          0   \n243                     0                     0          0   \n244                     0                     0          0   \n269                     0                     0          0   \n306                     0                     0          0   \n314                     1                     0          0   \n\n     Drukarki i skanery  Biurowe urządzenia wielofunkcyjne  Gry i konsole  \\\n17                    0                                  0              1   \n59                    0                                  0              1   \n97                    0                                  0              1   \n106                   0                                  0              1   \n147                   0                                  0              1   \n176                   0                                  0              1   \n182                   0                                  0              1   \n183                   0                                  0              1   \n243                   0                                  0              1   \n244                   0                                  0              1   \n269                   0                                  0              1   \n306                   0                                  0              0   \n314                   0                                  0              0   \n\n     Gry na konsole  ...  Tablety i akcesoria  Tablety  \\\n17                1  ...                    0        0   \n59                0  ...                    0        0   \n97                0  ...                    0        0   \n106               0  ...                    0        0   \n147               0  ...                    0        0   \n176               0  ...                    0        0   \n182               0  ...                    0        0   \n183               0  ...                    0        0   \n243               0  ...                    0        0   \n244               0  ...                    0        0   \n269               0  ...                    0        0   \n306               0  ...                    0        0   \n314               0  ...                    0        0   \n\n     Przenośne audio i video  Odtwarzacze mp3 i mp4  Telewizory i akcesoria  \\\n17                         0                      0                       0   \n59                         0                      0                       0   \n97                         0                      0                       0   \n106                        0                      0                       0   \n147                        0                      0                       0   \n176                        0                      0                       0   \n182                        0                      0                       0   \n183                        0                      0                       0   \n243                        0                      0                       0   \n244                        0                      0                       0   \n269                        0                      0                       0   \n306                        0                      0                       1   \n314                        0                      0                       0   \n\n     Okulary 3D  Anteny RTV  Zestawy słuchawkowe  Audio  Słuchawki  \n17            0           0                    0      0          0  \n59            0           0                    0      0          0  \n97            0           0                    0      0          0  \n106           0           0                    0      0          0  \n147           0           0                    0      0          0  \n176           0           0                    0      0          0  \n182           0           0                    0      0          0  \n183           0           0                    0      0          0  \n243           0           0                    0      0          0  \n244           0           0                    0      0          0  \n269           0           0                    0      0          0  \n306           0           1                    0      0          0  \n314           0           0                    1      0          0  \n\n[13 rows x 31 columns]",
      "text/html": "<div>\n<style scoped>\n    .dataframe tbody tr th:only-of-type {\n        vertical-align: middle;\n    }\n\n    .dataframe tbody tr th {\n        vertical-align: top;\n    }\n\n    .dataframe thead th {\n        text-align: right;\n    }\n</style>\n<table border=\"1\" class=\"dataframe\">\n  <thead>\n    <tr style=\"text-align: right;\">\n      <th></th>\n      <th>product_id</th>\n      <th>product_name</th>\n      <th>price</th>\n      <th>Telefony i akcesoria</th>\n      <th>Telefony stacjonarne</th>\n      <th>Komputery</th>\n      <th>Drukarki i skanery</th>\n      <th>Biurowe urządzenia wielofunkcyjne</th>\n      <th>Gry i konsole</th>\n      <th>Gry na konsole</th>\n      <th>...</th>\n      <th>Tablety i akcesoria</th>\n      <th>Tablety</th>\n      <th>Przenośne audio i video</th>\n      <th>Odtwarzacze mp3 i mp4</th>\n      <th>Telewizory i akcesoria</th>\n      <th>Okulary 3D</th>\n      <th>Anteny RTV</th>\n      <th>Zestawy słuchawkowe</th>\n      <th>Audio</th>\n      <th>Słuchawki</th>\n    </tr>\n  </thead>\n  <tbody>\n    <tr>\n      <th>17</th>\n      <td>1018</td>\n      <td>Gears of War 3 (Xbox 360)</td>\n      <td>89990000.0</td>\n      <td>0</td>\n      <td>0</td>\n      <td>0</td>\n      <td>0</td>\n      <td>0</td>\n      <td>1</td>\n      <td>1</td>\n      <td>...</td>\n      <td>0</td>\n      <td>0</td>\n      <td>0</td>\n      <td>0</td>\n      <td>0</td>\n      <td>0</td>\n      <td>0</td>\n      <td>0</td>\n      <td>0</td>\n      <td>0</td>\n    </tr>\n    <tr>\n      <th>59</th>\n      <td>1060</td>\n      <td>Wiedźmin 2 Zabójcy królów (PC)</td>\n      <td>34990000.0</td>\n      <td>0</td>\n      <td>0</td>\n      <td>0</td>\n      <td>0</td>\n      <td>0</td>\n      <td>1</td>\n      <td>0</td>\n      <td>...</td>\n      <td>0</td>\n      <td>0</td>\n      <td>0</td>\n      <td>0</td>\n      <td>0</td>\n      <td>0</td>\n      <td>0</td>\n      <td>0</td>\n      <td>0</td>\n      <td>0</td>\n    </tr>\n    <tr>\n      <th>97</th>\n      <td>1098</td>\n      <td>DIRT 3 (PC)</td>\n      <td>16900000.0</td>\n      <td>0</td>\n      <td>0</td>\n      <td>0</td>\n      <td>0</td>\n      <td>0</td>\n      <td>1</td>\n      <td>0</td>\n      <td>...</td>\n      <td>0</td>\n      <td>0</td>\n      <td>0</td>\n      <td>0</td>\n      <td>0</td>\n      <td>0</td>\n      <td>0</td>\n      <td>0</td>\n      <td>0</td>\n      <td>0</td>\n    </tr>\n    <tr>\n      <th>106</th>\n      <td>1107</td>\n      <td>Rise of the Argonauts (PC)</td>\n      <td>34990000.0</td>\n      <td>0</td>\n      <td>0</td>\n      <td>0</td>\n      <td>0</td>\n      <td>0</td>\n      <td>1</td>\n      <td>0</td>\n      <td>...</td>\n      <td>0</td>\n      <td>0</td>\n      <td>0</td>\n      <td>0</td>\n      <td>0</td>\n      <td>0</td>\n      <td>0</td>\n      <td>0</td>\n      <td>0</td>\n      <td>0</td>\n    </tr>\n    <tr>\n      <th>147</th>\n      <td>1148</td>\n      <td>Iniemamocni (PC)</td>\n      <td>169000000.0</td>\n      <td>0</td>\n      <td>0</td>\n      <td>0</td>\n      <td>0</td>\n      <td>0</td>\n      <td>1</td>\n      <td>0</td>\n      <td>...</td>\n      <td>0</td>\n      <td>0</td>\n      <td>0</td>\n      <td>0</td>\n      <td>0</td>\n      <td>0</td>\n      <td>0</td>\n      <td>0</td>\n      <td>0</td>\n      <td>0</td>\n    </tr>\n    <tr>\n      <th>176</th>\n      <td>1177</td>\n      <td>Twierdza 3 (PC)</td>\n      <td>34990000.0</td>\n      <td>0</td>\n      <td>0</td>\n      <td>0</td>\n      <td>0</td>\n      <td>0</td>\n      <td>1</td>\n      <td>0</td>\n      <td>...</td>\n      <td>0</td>\n      <td>0</td>\n      <td>0</td>\n      <td>0</td>\n      <td>0</td>\n      <td>0</td>\n      <td>0</td>\n      <td>0</td>\n      <td>0</td>\n      <td>0</td>\n    </tr>\n    <tr>\n      <th>182</th>\n      <td>1183</td>\n      <td>GTA San Andreas (PC)</td>\n      <td>40900000.0</td>\n      <td>0</td>\n      <td>0</td>\n      <td>0</td>\n      <td>0</td>\n      <td>0</td>\n      <td>1</td>\n      <td>0</td>\n      <td>...</td>\n      <td>0</td>\n      <td>0</td>\n      <td>0</td>\n      <td>0</td>\n      <td>0</td>\n      <td>0</td>\n      <td>0</td>\n      <td>0</td>\n      <td>0</td>\n      <td>0</td>\n    </tr>\n    <tr>\n      <th>183</th>\n      <td>1184</td>\n      <td>Men of War Oddział Szturmowy (PC)</td>\n      <td>4990000.0</td>\n      <td>0</td>\n      <td>0</td>\n      <td>0</td>\n      <td>0</td>\n      <td>0</td>\n      <td>1</td>\n      <td>0</td>\n      <td>...</td>\n      <td>0</td>\n      <td>0</td>\n      <td>0</td>\n      <td>0</td>\n      <td>0</td>\n      <td>0</td>\n      <td>0</td>\n      <td>0</td>\n      <td>0</td>\n      <td>0</td>\n    </tr>\n    <tr>\n      <th>243</th>\n      <td>1244</td>\n      <td>Hard Reset (PC)</td>\n      <td>9990000.0</td>\n      <td>0</td>\n      <td>0</td>\n      <td>0</td>\n      <td>0</td>\n      <td>0</td>\n      <td>1</td>\n      <td>0</td>\n      <td>...</td>\n      <td>0</td>\n      <td>0</td>\n      <td>0</td>\n      <td>0</td>\n      <td>0</td>\n      <td>0</td>\n      <td>0</td>\n      <td>0</td>\n      <td>0</td>\n      <td>0</td>\n    </tr>\n    <tr>\n      <th>244</th>\n      <td>1245</td>\n      <td>Warhammer 40.000 Dawn of War 2 (PC)</td>\n      <td>34990000.0</td>\n      <td>0</td>\n      <td>0</td>\n      <td>0</td>\n      <td>0</td>\n      <td>0</td>\n      <td>1</td>\n      <td>0</td>\n      <td>...</td>\n      <td>0</td>\n      <td>0</td>\n      <td>0</td>\n      <td>0</td>\n      <td>0</td>\n      <td>0</td>\n      <td>0</td>\n      <td>0</td>\n      <td>0</td>\n      <td>0</td>\n    </tr>\n    <tr>\n      <th>269</th>\n      <td>1270</td>\n      <td>Warhammer 40.000 Space Marine (PC)</td>\n      <td>7900000.0</td>\n      <td>0</td>\n      <td>0</td>\n      <td>0</td>\n      <td>0</td>\n      <td>0</td>\n      <td>1</td>\n      <td>0</td>\n      <td>...</td>\n      <td>0</td>\n      <td>0</td>\n      <td>0</td>\n      <td>0</td>\n      <td>0</td>\n      <td>0</td>\n      <td>0</td>\n      <td>0</td>\n      <td>0</td>\n      <td>0</td>\n    </tr>\n    <tr>\n      <th>306</th>\n      <td>1307</td>\n      <td>One For All SV 9033</td>\n      <td>59990000.0</td>\n      <td>0</td>\n      <td>0</td>\n      <td>0</td>\n      <td>0</td>\n      <td>0</td>\n      <td>0</td>\n      <td>0</td>\n      <td>...</td>\n      <td>0</td>\n      <td>0</td>\n      <td>0</td>\n      <td>0</td>\n      <td>1</td>\n      <td>0</td>\n      <td>1</td>\n      <td>0</td>\n      <td>0</td>\n      <td>0</td>\n    </tr>\n    <tr>\n      <th>314</th>\n      <td>1315</td>\n      <td>Jabra Talk</td>\n      <td>54990000.0</td>\n      <td>1</td>\n      <td>0</td>\n      <td>0</td>\n      <td>0</td>\n      <td>0</td>\n      <td>0</td>\n      <td>0</td>\n      <td>...</td>\n      <td>0</td>\n      <td>0</td>\n      <td>0</td>\n      <td>0</td>\n      <td>0</td>\n      <td>0</td>\n      <td>0</td>\n      <td>1</td>\n      <td>0</td>\n      <td>0</td>\n    </tr>\n  </tbody>\n</table>\n<p>13 rows × 31 columns</p>\n</div>"
     },
     "execution_count": 154,
     "metadata": {},
     "output_type": "execute_result"
    }
   ],
   "source": [
    "products_df.loc[products_df['price'] > 10000]"
   ]
  },
  {
   "cell_type": "code",
   "execution_count": 155,
   "metadata": {},
   "outputs": [
    {
     "data": {
      "text/plain": "Empty DataFrame\nColumns: [product_id, product_name, price, Telefony i akcesoria, Telefony stacjonarne, Komputery, Drukarki i skanery, Biurowe urządzenia wielofunkcyjne, Gry i konsole, Gry na konsole, Gry Xbox 360, Monitory, Monitory LCD, Telefony komórkowe, Gry PlayStation3, Gry komputerowe, Akcesoria telefoniczne, Zestawy głośnomówiące, Sprzęt RTV, Video, Odtwarzacze DVD, Tablety i akcesoria, Tablety, Przenośne audio i video, Odtwarzacze mp3 i mp4, Telewizory i akcesoria, Okulary 3D, Anteny RTV, Zestawy słuchawkowe, Audio, Słuchawki]\nIndex: []\n\n[0 rows x 31 columns]",
      "text/html": "<div>\n<style scoped>\n    .dataframe tbody tr th:only-of-type {\n        vertical-align: middle;\n    }\n\n    .dataframe tbody tr th {\n        vertical-align: top;\n    }\n\n    .dataframe thead th {\n        text-align: right;\n    }\n</style>\n<table border=\"1\" class=\"dataframe\">\n  <thead>\n    <tr style=\"text-align: right;\">\n      <th></th>\n      <th>product_id</th>\n      <th>product_name</th>\n      <th>price</th>\n      <th>Telefony i akcesoria</th>\n      <th>Telefony stacjonarne</th>\n      <th>Komputery</th>\n      <th>Drukarki i skanery</th>\n      <th>Biurowe urządzenia wielofunkcyjne</th>\n      <th>Gry i konsole</th>\n      <th>Gry na konsole</th>\n      <th>...</th>\n      <th>Tablety i akcesoria</th>\n      <th>Tablety</th>\n      <th>Przenośne audio i video</th>\n      <th>Odtwarzacze mp3 i mp4</th>\n      <th>Telewizory i akcesoria</th>\n      <th>Okulary 3D</th>\n      <th>Anteny RTV</th>\n      <th>Zestawy słuchawkowe</th>\n      <th>Audio</th>\n      <th>Słuchawki</th>\n    </tr>\n  </thead>\n  <tbody>\n  </tbody>\n</table>\n<p>0 rows × 31 columns</p>\n</div>"
     },
     "execution_count": 155,
     "metadata": {},
     "output_type": "execute_result"
    }
   ],
   "source": [
    "products_df.loc[products_df['price'].isna()]"
   ]
  },
  {
   "cell_type": "markdown",
   "metadata": {},
   "source": [
    "Checking offered discounts"
   ]
  },
  {
   "cell_type": "code",
   "execution_count": 156,
   "metadata": {},
   "outputs": [
    {
     "data": {
      "text/plain": "Empty DataFrame\nColumns: [session_id, timestamp, user_id, product_id, offered_discount, purchase_id, event_type_BUY_PRODUCT, event_type_VIEW_PRODUCT]\nIndex: []",
      "text/html": "<div>\n<style scoped>\n    .dataframe tbody tr th:only-of-type {\n        vertical-align: middle;\n    }\n\n    .dataframe tbody tr th {\n        vertical-align: top;\n    }\n\n    .dataframe thead th {\n        text-align: right;\n    }\n</style>\n<table border=\"1\" class=\"dataframe\">\n  <thead>\n    <tr style=\"text-align: right;\">\n      <th></th>\n      <th>session_id</th>\n      <th>timestamp</th>\n      <th>user_id</th>\n      <th>product_id</th>\n      <th>offered_discount</th>\n      <th>purchase_id</th>\n      <th>event_type_BUY_PRODUCT</th>\n      <th>event_type_VIEW_PRODUCT</th>\n    </tr>\n  </thead>\n  <tbody>\n  </tbody>\n</table>\n</div>"
     },
     "execution_count": 156,
     "metadata": {},
     "output_type": "execute_result"
    }
   ],
   "source": [
    "sessions_df.loc[(sessions_df['offered_discount'] < 0) | (sessions_df['offered_discount'] > 100)]"
   ]
  },
  {
   "cell_type": "markdown",
   "metadata": {},
   "source": [
    "Checking if sessions data is complete"
   ]
  },
  {
   "cell_type": "code",
   "execution_count": 157,
   "metadata": {},
   "outputs": [
    {
     "data": {
      "text/plain": "       session_id           timestamp  user_id  product_id  offered_discount  \\\n7          100001 2020-01-15 14:01:12    102.0         NaN                 0   \n15         100003 2020-01-20 10:22:12      NaN      1032.0                15   \n48         100008 2020-02-23 07:22:43      NaN      1005.0                 0   \n54         100008 2020-02-23 07:34:19    102.0         NaN                 0   \n56         100008 2020-02-23 07:40:58      NaN      1013.0                 0   \n...           ...                 ...      ...         ...               ...   \n55074      110269 2020-03-12 18:39:41      NaN      1047.0                 0   \n55096      110272 2020-03-17 05:40:37    301.0         NaN                15   \n55099      110273 2020-02-17 03:03:33    301.0         NaN                15   \n55103      110273 2020-02-17 03:10:17    301.0         NaN                15   \n55107      110274 2020-02-29 22:45:54      NaN      1001.0                 0   \n\n       purchase_id  event_type_BUY_PRODUCT  event_type_VIEW_PRODUCT  \n7              NaN                       0                        1  \n15             NaN                       0                        1  \n48             NaN                       0                        1  \n54             NaN                       0                        1  \n56             NaN                       0                        1  \n...            ...                     ...                      ...  \n55074          NaN                       0                        1  \n55096          NaN                       0                        1  \n55099          NaN                       0                        1  \n55103          NaN                       0                        1  \n55107          NaN                       0                        1  \n\n[5401 rows x 8 columns]",
      "text/html": "<div>\n<style scoped>\n    .dataframe tbody tr th:only-of-type {\n        vertical-align: middle;\n    }\n\n    .dataframe tbody tr th {\n        vertical-align: top;\n    }\n\n    .dataframe thead th {\n        text-align: right;\n    }\n</style>\n<table border=\"1\" class=\"dataframe\">\n  <thead>\n    <tr style=\"text-align: right;\">\n      <th></th>\n      <th>session_id</th>\n      <th>timestamp</th>\n      <th>user_id</th>\n      <th>product_id</th>\n      <th>offered_discount</th>\n      <th>purchase_id</th>\n      <th>event_type_BUY_PRODUCT</th>\n      <th>event_type_VIEW_PRODUCT</th>\n    </tr>\n  </thead>\n  <tbody>\n    <tr>\n      <th>7</th>\n      <td>100001</td>\n      <td>2020-01-15 14:01:12</td>\n      <td>102.0</td>\n      <td>NaN</td>\n      <td>0</td>\n      <td>NaN</td>\n      <td>0</td>\n      <td>1</td>\n    </tr>\n    <tr>\n      <th>15</th>\n      <td>100003</td>\n      <td>2020-01-20 10:22:12</td>\n      <td>NaN</td>\n      <td>1032.0</td>\n      <td>15</td>\n      <td>NaN</td>\n      <td>0</td>\n      <td>1</td>\n    </tr>\n    <tr>\n      <th>48</th>\n      <td>100008</td>\n      <td>2020-02-23 07:22:43</td>\n      <td>NaN</td>\n      <td>1005.0</td>\n      <td>0</td>\n      <td>NaN</td>\n      <td>0</td>\n      <td>1</td>\n    </tr>\n    <tr>\n      <th>54</th>\n      <td>100008</td>\n      <td>2020-02-23 07:34:19</td>\n      <td>102.0</td>\n      <td>NaN</td>\n      <td>0</td>\n      <td>NaN</td>\n      <td>0</td>\n      <td>1</td>\n    </tr>\n    <tr>\n      <th>56</th>\n      <td>100008</td>\n      <td>2020-02-23 07:40:58</td>\n      <td>NaN</td>\n      <td>1013.0</td>\n      <td>0</td>\n      <td>NaN</td>\n      <td>0</td>\n      <td>1</td>\n    </tr>\n    <tr>\n      <th>...</th>\n      <td>...</td>\n      <td>...</td>\n      <td>...</td>\n      <td>...</td>\n      <td>...</td>\n      <td>...</td>\n      <td>...</td>\n      <td>...</td>\n    </tr>\n    <tr>\n      <th>55074</th>\n      <td>110269</td>\n      <td>2020-03-12 18:39:41</td>\n      <td>NaN</td>\n      <td>1047.0</td>\n      <td>0</td>\n      <td>NaN</td>\n      <td>0</td>\n      <td>1</td>\n    </tr>\n    <tr>\n      <th>55096</th>\n      <td>110272</td>\n      <td>2020-03-17 05:40:37</td>\n      <td>301.0</td>\n      <td>NaN</td>\n      <td>15</td>\n      <td>NaN</td>\n      <td>0</td>\n      <td>1</td>\n    </tr>\n    <tr>\n      <th>55099</th>\n      <td>110273</td>\n      <td>2020-02-17 03:03:33</td>\n      <td>301.0</td>\n      <td>NaN</td>\n      <td>15</td>\n      <td>NaN</td>\n      <td>0</td>\n      <td>1</td>\n    </tr>\n    <tr>\n      <th>55103</th>\n      <td>110273</td>\n      <td>2020-02-17 03:10:17</td>\n      <td>301.0</td>\n      <td>NaN</td>\n      <td>15</td>\n      <td>NaN</td>\n      <td>0</td>\n      <td>1</td>\n    </tr>\n    <tr>\n      <th>55107</th>\n      <td>110274</td>\n      <td>2020-02-29 22:45:54</td>\n      <td>NaN</td>\n      <td>1001.0</td>\n      <td>0</td>\n      <td>NaN</td>\n      <td>0</td>\n      <td>1</td>\n    </tr>\n  </tbody>\n</table>\n<p>5401 rows × 8 columns</p>\n</div>"
     },
     "execution_count": 157,
     "metadata": {},
     "output_type": "execute_result"
    }
   ],
   "source": [
    "sessions_df.loc[(sessions_df['user_id'].isna()) | (sessions_df['product_id'].isna())]"
   ]
  },
  {
   "cell_type": "markdown",
   "source": [
    "Missing data analysis"
   ],
   "metadata": {
    "collapsed": false
   }
  },
  {
   "cell_type": "code",
   "execution_count": null,
   "outputs": [],
   "source": [
    "sessions_missing_df = sessions_df.copy()\n",
    "values = sessions_missing_df['user_id'].copy()\n",
    "values2 = sessions_missing_df['product_id'].copy()\n",
    "for i in range(values.size):\n",
    "    if  pd.isna(values[i]):\n",
    "        values[i] = 1\n",
    "    else:\n",
    "        values[i] = 0\n",
    "    if  pd.isna(values2[i]):\n",
    "        values2[i] = 1\n",
    "    else:\n",
    "        values2[i] = 0\n",
    "sessions_missing_df['indicator'] = values\n",
    "sessions_missing_df['indicator2'] = values2\n",
    "sessions_missing_df = sessions_missing_df.fillna(0)\n"
   ],
   "metadata": {
    "collapsed": false,
    "pycharm": {
     "name": "#%%\n"
    }
   }
  },
  {
   "cell_type": "code",
   "execution_count": null,
   "outputs": [],
   "source": [
    "train = sessions_missing_df.loc[sessions_missing_df.index < 50000]\n",
    "reg = linear_model.LinearRegression()\n",
    "reg2 = linear_model.LinearRegression()\n",
    "reg.fit(train[['session_id', 'product_id', 'offered_discount', 'purchase_id']], train.indicator)\n",
    "reg2.fit(train[['session_id', 'user_id', 'offered_discount', 'purchase_id']], train.indicator2)\n"
   ],
   "metadata": {
    "collapsed": false,
    "pycharm": {
     "name": "#%%\n"
    }
   }
  },
  {
   "cell_type": "code",
   "execution_count": null,
   "outputs": [],
   "source": [
    "X_test = sessions_missing_df.loc[sessions_missing_df.index >= 50000]\n",
    "tested = 0\n",
    "correct = 0\n",
    "correct2 = 0\n",
    "for row, index in X_test.iterrows():\n",
    "    tested = tested + 1\n",
    "    value = reg.predict([[index['session_id'], index['product_id'], index['offered_discount'], index['purchase_id']]])\n",
    "    if index['indicator'] == 1 and abs(value - index['indicator']) < 0.2:\n",
    "        correct = correct + 1\n",
    "    value = reg2.predict([[index['session_id'], index['user_id'], index['offered_discount'], index['purchase_id']]])\n",
    "    if index['indicator2'] == 1 and abs(value - index['indicator2']) < 0.2:\n",
    "        correct2 = correct2 + 1\n",
    "\n"
   ],
   "metadata": {
    "collapsed": false,
    "pycharm": {
     "name": "#%%\n"
    }
   }
  },
  {
   "cell_type": "markdown",
   "source": [
    "Percent of found indicators for missing user_id\n"
   ],
   "metadata": {
    "collapsed": false
   }
  },
  {
   "cell_type": "code",
   "execution_count": null,
   "outputs": [],
   "source": [
    "correct/tested\n"
   ],
   "metadata": {
    "collapsed": false,
    "pycharm": {
     "name": "#%%\n"
    }
   }
  },
  {
   "cell_type": "markdown",
   "source": [
    "Percent of found indicators for missing product_id\n"
   ],
   "metadata": {
    "collapsed": false
   }
  },
  {
   "cell_type": "code",
   "execution_count": null,
   "outputs": [],
   "source": [
    "correct2/tested\n",
    "\n"
   ],
   "metadata": {
    "collapsed": false,
    "pycharm": {
     "name": "#%%\n"
    }
   }
  },
  {
   "cell_type": "markdown",
   "source": [
    "correct2/tested\n",
    "\n"
   ],
   "metadata": {
    "collapsed": false,
    "pycharm": {
     "name": "#%% md\n"
    }
   }
  },
  {
   "cell_type": "code",
   "execution_count": 158,
   "outputs": [],
   "source": [
    "sessions_missing_df = sessions_df.copy()\n",
    "values = sessions_missing_df['user_id'].copy()\n",
    "values2 = sessions_missing_df['product_id'].copy()\n",
    "for i in range(values.size):\n",
    "    if  pd.isna(values[i]):\n",
    "        values[i] = 1\n",
    "    else:\n",
    "        values[i] = 0\n",
    "    if  pd.isna(values2[i]):\n",
    "        values2[i] = 1\n",
    "    else:\n",
    "        values2[i] = 0\n",
    "sessions_missing_df['indicator'] = values\n",
    "sessions_missing_df['indicator2'] = values2\n",
    "sessions_missing_df = sessions_missing_df.fillna(0)\n"
   ],
   "metadata": {
    "collapsed": false,
    "pycharm": {
     "name": "#%%\n"
    }
   }
  },
  {
   "cell_type": "code",
   "execution_count": 159,
   "outputs": [
    {
     "data": {
      "text/plain": "LinearRegression()"
     },
     "execution_count": 159,
     "metadata": {},
     "output_type": "execute_result"
    }
   ],
   "source": [
    "train = sessions_missing_df.loc[sessions_missing_df.index < 50000]\n",
    "reg = linear_model.LinearRegression()\n",
    "reg2 = linear_model.LinearRegression()\n",
    "reg.fit(train[['session_id', 'product_id', 'offered_discount', 'purchase_id']], train.indicator)\n",
    "reg2.fit(train[['session_id', 'user_id', 'offered_discount', 'purchase_id']], train.indicator2)\n"
   ],
   "metadata": {
    "collapsed": false,
    "pycharm": {
     "name": "#%%\n"
    }
   }
  },
  {
   "cell_type": "code",
   "execution_count": 160,
   "outputs": [],
   "source": [
    "X_test = sessions_missing_df.loc[sessions_missing_df.index >= 50000]\n",
    "tested = 0\n",
    "correct = 0\n",
    "correct2 = 0\n",
    "for row, index in X_test.iterrows():\n",
    "    tested = tested + 1\n",
    "    value = reg.predict([[index['session_id'], index['product_id'], index['offered_discount'], index['purchase_id']]])\n",
    "    if index['indicator'] == 1 and abs(value - index['indicator']) < 0.2:\n",
    "        correct = correct + 1\n",
    "    value = reg2.predict([[index['session_id'], index['user_id'], index['offered_discount'], index['purchase_id']]])\n",
    "    if index['indicator2'] == 1 and abs(value - index['indicator2']) < 0.2:\n",
    "        correct2 = correct2 + 1\n",
    "\n"
   ],
   "metadata": {
    "collapsed": false,
    "pycharm": {
     "name": "#%%\n"
    }
   }
  },
  {
   "cell_type": "markdown",
   "source": [
    "Percent of found indicators for missing user_id\n"
   ],
   "metadata": {
    "collapsed": false,
    "pycharm": {
     "name": "#%% md\n"
    }
   }
  },
  {
   "cell_type": "code",
   "source": [
    "correct/tested\n"
   ],
   "metadata": {
    "collapsed": false,
    "pycharm": {
     "name": "#%%\n"
    }
   },
   "execution_count": 161,
   "outputs": [
    {
     "data": {
      "text/plain": "0.0"
     },
     "execution_count": 161,
     "metadata": {},
     "output_type": "execute_result"
    }
   ]
  },
  {
   "cell_type": "markdown",
   "source": [
    "Percent of found indicators for missing product_id\n"
   ],
   "metadata": {
    "collapsed": false,
    "pycharm": {
     "name": "#%% md\n"
    }
   }
  },
  {
   "cell_type": "code",
   "execution_count": 162,
   "outputs": [
    {
     "data": {
      "text/plain": "0.0"
     },
     "execution_count": 162,
     "metadata": {},
     "output_type": "execute_result"
    }
   ],
   "source": [
    "correct2/tested\n",
    "\n"
   ],
   "metadata": {
    "collapsed": false,
    "pycharm": {
     "name": "#%%\n"
    }
   }
  }
 ],
 "metadata": {
  "kernelspec": {
   "display_name": "Python 3",
   "language": "python",
   "name": "python3"
  },
  "language_info": {
   "codemirror_mode": {
    "name": "ipython",
    "version": 3
   },
   "file_extension": ".py",
   "mimetype": "text/x-python",
   "name": "python",
   "nbconvert_exporter": "python",
   "pygments_lexer": "ipython3",
   "version": "3.6.8"
  }
 },
 "nbformat": 4,
 "nbformat_minor": 4
}