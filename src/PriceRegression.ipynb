{
 "cells": [
  {
   "cell_type": "code",
   "execution_count": 237,
   "metadata": {
    "collapsed": true
   },
   "outputs": [],
   "source": [
    "import pandas as pd\n",
    "import numpy as np\n",
    "import DataLoad as data\n",
    "from sklearn import linear_model"
   ]
  },
  {
   "cell_type": "code",
   "execution_count": 238,
   "outputs": [],
   "source": [
    "pd.options.mode.chained_assignment = None\n",
    "sessions_df = data.load_sessions_data()\n",
    "users_df = data.load_users_data()\n",
    "products_df = data.load_products_data()\n",
    "cleared_sessions_df = sessions_df.loc[ (~sessions_df['user_id'].isna()) & (~sessions_df['product_id'].isna())]"
   ],
   "metadata": {
    "collapsed": false,
    "pycharm": {
     "name": "#%%\n"
    }
   }
  },
  {
   "cell_type": "code",
   "execution_count": 239,
   "outputs": [],
   "source": [
    "def get_buys(uid):\n",
    "    drop_list = []\n",
    "    tmp = cleared_sessions_df.loc[(cleared_sessions_df['user_id'] == uid) & (cleared_sessions_df['event_type_BUY_PRODUCT'] == 1)]\n",
    "    i = -1\n",
    "    for index, row in tmp.iterrows():\n",
    "        if index in drop_list:\n",
    "            continue\n",
    "        i = i + 1\n",
    "        count = 1\n",
    "        sum = row['offered_discount']\n",
    "        j = i\n",
    "        tmp2 = tmp[(i + 1):]\n",
    "        for index2, row2 in tmp2.iterrows():\n",
    "            j = j + 1\n",
    "            if row['product_id'] == row2['product_id']:\n",
    "                count = count + 1\n",
    "                sum = sum + row2['offered_discount']\n",
    "                tmp.drop(tmp.index[j], inplace=True)\n",
    "                j = j - 1\n",
    "                drop_list.append(index2)\n",
    "        if count > 1:\n",
    "             tmp.at[index, 'offered_discount'] = sum / count\n",
    "\n",
    "    return tmp\n",
    "\n",
    "def get_product_category(pid):\n",
    "    tmp = products_df.loc[((products_df['product_id']).isin(pid))]\n",
    "    tmp = tmp.drop(['product_name', 'price', 'product_id'], axis=1)\n",
    "    return tmp\n"
   ],
   "metadata": {
    "collapsed": false,
    "pycharm": {
     "name": "#%%\n"
    }
   }
  },
  {
   "cell_type": "code",
   "execution_count": 246,
   "outputs": [
    {
     "data": {
      "text/plain": "[array([20.]),\n array([17.9877204]),\n array([15.]),\n 0,\n array([14.23333333]),\n array([20.]),\n array([11.09550562]),\n array([20.]),\n array([14.54296875]),\n 0,\n array([10.]),\n array([10.]),\n array([20.]),\n array([20.]),\n array([13.75]),\n array([20.]),\n array([20.]),\n array([15.]),\n array([20.]),\n 0,\n array([15.]),\n array([14.]),\n array([20.]),\n array([20.]),\n 0,\n array([15.]),\n array([11.91666667]),\n array([20.]),\n array([15.]),\n array([20.]),\n 0,\n array([10.]),\n array([15.]),\n array([18.05825243]),\n array([15.]),\n array([20.]),\n array([20.]),\n array([16.8]),\n array([20.]),\n 0,\n array([10.]),\n array([20.]),\n array([20.]),\n array([20.]),\n array([10.]),\n array([20.]),\n array([10.]),\n array([20.]),\n array([20.]),\n array([20.]),\n array([15.]),\n array([20.]),\n array([16.66666667]),\n array([10.]),\n array([20.]),\n array([20.]),\n array([20.]),\n array([20.]),\n array([11.12962963]),\n array([16.125]),\n array([12.1953125]),\n array([20.]),\n array([14.28571429]),\n 0,\n array([20.]),\n 0,\n array([10.]),\n array([17.]),\n array([15.]),\n array([14.35712142]),\n array([15.]),\n array([12.390625]),\n array([14.10714286]),\n array([20.]),\n 0,\n array([20.]),\n 0,\n 0,\n 0,\n array([10.]),\n array([20.]),\n array([20.]),\n array([13.80503145]),\n array([20.]),\n array([20.]),\n array([14.84269663]),\n array([13.2034413]),\n array([20.]),\n 0,\n 0,\n array([15.]),\n array([15.]),\n array([20.]),\n 0,\n 0,\n array([20.]),\n 0,\n 0,\n 0,\n array([12.]),\n array([20.]),\n array([10.]),\n array([20.]),\n array([20.]),\n array([20.]),\n array([20.]),\n array([12.11111111]),\n array([20.]),\n array([15.2]),\n array([13.]),\n array([18.39850149]),\n 0,\n array([12.]),\n array([20.]),\n array([20.]),\n array([14.38276182]),\n array([12.02586207]),\n array([20.]),\n array([20.]),\n array([20.]),\n array([20.]),\n array([14.5]),\n array([17.77777778]),\n array([11.21621622]),\n array([20.]),\n array([20.]),\n array([15.]),\n array([15.]),\n array([17.]),\n array([20.]),\n array([10.]),\n array([20.]),\n 0,\n 0,\n array([20.]),\n 0,\n array([10.]),\n 0,\n array([10.]),\n array([14.28571429]),\n 0,\n array([20.]),\n array([10.]),\n array([20.]),\n array([20.]),\n 0,\n array([20.]),\n array([15.86071429]),\n array([10.]),\n array([20.]),\n array([20.]),\n array([20.]),\n 0,\n array([20.]),\n array([17.93150685]),\n array([20.]),\n array([12.]),\n array([15.]),\n array([20.]),\n array([20.]),\n array([15.]),\n array([15.]),\n array([15.]),\n array([16.66666667]),\n 0,\n array([15.47413793]),\n array([20.]),\n 0,\n 0,\n array([10.]),\n array([20.]),\n array([18.57504078]),\n array([11.96428571]),\n array([20.]),\n 0,\n array([20.]),\n array([20.]),\n array([20.]),\n array([15.]),\n array([20.]),\n 0,\n 0,\n array([20.]),\n 0,\n array([10.]),\n array([20.]),\n array([20.]),\n array([20.]),\n array([20.]),\n array([13.]),\n array([20.]),\n array([15.19047619]),\n array([11.9189653]),\n array([10.]),\n 0,\n array([15.14285714]),\n array([17.6340824]),\n array([20.]),\n array([20.]),\n array([20.])]"
     },
     "execution_count": 246,
     "metadata": {},
     "output_type": "execute_result"
    }
   ],
   "source": [
    "\n",
    "users = users_df['user_id']\n",
    "reg_list = []\n",
    "for id in users:\n",
    "    reg = linear_model.LinearRegression()\n",
    "    user_buys = get_buys(id)\n",
    "    if len(user_buys.index) > 0:\n",
    "        reg.fit(get_product_category(user_buys['product_id']), user_buys['offered_discount'])\n",
    "        reg_list.append([id, reg])\n",
    "    else:\n",
    "        reg_list.append([id, 0])"
   ],
   "metadata": {
    "collapsed": false,
    "pycharm": {
     "name": "#%%\n"
    }
   }
  },
  {
   "cell_type": "code",
   "execution_count": null,
   "outputs": [],
   "source": [
    "a = []\n",
    "for i in users.index:\n",
    "    if reg_list[i][1] == 0:\n",
    "        a.append(0)\n",
    "    else:\n",
    "        a.append(reg_list[i][1].predict(get_product_category([1311])))\n",
    "a\n"
   ],
   "metadata": {
    "collapsed": false,
    "pycharm": {
     "name": "#%%\n"
    }
   }
  }
 ],
 "metadata": {
  "kernelspec": {
   "display_name": "Python 3",
   "language": "python",
   "name": "python3"
  },
  "language_info": {
   "codemirror_mode": {
    "name": "ipython",
    "version": 2
   },
   "file_extension": ".py",
   "mimetype": "text/x-python",
   "name": "python",
   "nbconvert_exporter": "python",
   "pygments_lexer": "ipython2",
   "version": "2.7.6"
  }
 },
 "nbformat": 4,
 "nbformat_minor": 0
}