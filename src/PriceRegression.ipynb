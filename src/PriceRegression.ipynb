{
 "cells": [
  {
   "cell_type": "code",
   "execution_count": 1,
   "metadata": {
    "collapsed": true
   },
   "outputs": [],
   "source": [
    "import pandas as pd\n",
    "import numpy as np\n",
    "import DataLoad as data\n",
    "from sklearn import linear_model"
   ]
  },
  {
   "cell_type": "code",
   "execution_count": 2,
   "metadata": {
    "pycharm": {
     "name": "#%%\n"
    }
   },
   "outputs": [],
   "source": [
    "pd.options.mode.chained_assignment = None\n",
    "sessions_df = data.load_sessions_data()\n",
    "users_df = data.load_users_data()\n",
    "products_df = data.load_products_data()\n",
    "cleared_sessions_df = sessions_df.loc[ (~sessions_df['user_id'].isna()) & (~sessions_df['product_id'].isna())]"
   ]
  },
  {
   "cell_type": "code",
   "execution_count": 3,
   "metadata": {
    "pycharm": {
     "name": "#%%\n"
    }
   },
   "outputs": [],
   "source": [
    "def get_buys(uid):\n",
    "    drop_list = []\n",
    "    tmp = cleared_sessions_df.loc[(cleared_sessions_df['user_id'] == uid) & (cleared_sessions_df['event_type_BUY_PRODUCT'] == 1)]\n",
    "    i = -1\n",
    "    for index, row in tmp.iterrows():\n",
    "        if index in drop_list:\n",
    "            continue\n",
    "        i += 1\n",
    "        count = 1\n",
    "        sum = row['offered_discount']\n",
    "        j = i\n",
    "        tmp2 = tmp[(i + 1):]\n",
    "        for index2, row2 in tmp2.iterrows():\n",
    "            j += 1\n",
    "            if row['product_id'] == row2['product_id']:\n",
    "                count += 1\n",
    "                sum = sum + row2['offered_discount']\n",
    "                tmp.drop(tmp.index[j], inplace=True)\n",
    "                j -= 1\n",
    "                drop_list.append(index2)\n",
    "        if count > 1:\n",
    "             tmp.at[index, 'offered_discount'] = sum / count\n",
    "    return tmp\n",
    "\n",
    "def get_product_category(pid):\n",
    "    tmp = products_df.loc[((products_df['product_id']).isin(pid))]\n",
    "    tmp = tmp.drop(['product_name', 'price', 'product_id'], axis=1)\n",
    "    return tmp\n"
   ]
  },
  {
   "cell_type": "code",
   "execution_count": 4,
   "metadata": {
    "pycharm": {
     "name": "#%%\n"
    }
   },
   "outputs": [],
   "source": [
    "\n",
    "users = users_df['user_id']\n",
    "reg_list = []\n",
    "for id in users:\n",
    "    reg = linear_model.LinearRegression()\n",
    "    user_buys = get_buys(id)\n",
    "    if len(user_buys.index) > 0:\n",
    "        reg.fit(get_product_category(user_buys['product_id']), user_buys['offered_discount'])\n",
    "        reg_list.append([id, reg])\n",
    "    else:\n",
    "        reg_list.append([id, 0])"
   ]
  },
  {
   "cell_type": "code",
   "execution_count": 5,
   "metadata": {
    "pycharm": {
     "name": "#%%\n"
    }
   },
   "outputs": [],
   "source": [
    "discounts_for_test_product = []\n",
    "for i in users.index:\n",
    "    if reg_list[i][1] == 0:\n",
    "        discounts_for_test_product.append(0)\n",
    "    else:\n",
    "        discounts_for_test_product.append(reg_list[i][1].predict(get_product_category([1311])))"
   ]
  },
  {
   "cell_type": "markdown",
   "source": [
    "Prediction test(user with single buy)"
   ],
   "metadata": {
    "collapsed": false
   }
  },
  {
   "cell_type": "code",
   "execution_count": 6,
   "outputs": [],
   "source": [
    "buy = cleared_sessions_df.loc[(cleared_sessions_df['user_id'] == 140) & (cleared_sessions_df['event_type_BUY_PRODUCT'] == 1)]\n"
   ],
   "metadata": {
    "collapsed": false,
    "pycharm": {
     "name": "#%%\n"
    }
   }
  },
  {
   "cell_type": "code",
   "execution_count": 7,
   "outputs": [],
   "source": [
    "discount = reg_list[140-102][1].predict(get_product_category([buy['product_id']]))"
   ],
   "metadata": {
    "collapsed": false,
    "pycharm": {
     "name": "#%%\n"
    }
   }
  },
  {
   "cell_type": "markdown",
   "source": [
    "Same discount for product:"
   ],
   "metadata": {
    "collapsed": false
   }
  },
  {
   "cell_type": "code",
   "execution_count": 8,
   "outputs": [],
   "source": [
    "test = False\n",
    "if buy['offered_discount'].iloc[0] == discount:\n",
    "    test = True"
   ],
   "metadata": {
    "collapsed": false,
    "pycharm": {
     "name": "#%%\n"
    }
   }
  },
  {
   "cell_type": "code",
   "execution_count": 9,
   "outputs": [
    {
     "data": {
      "text/plain": "True"
     },
     "execution_count": 9,
     "metadata": {},
     "output_type": "execute_result"
    }
   ],
   "source": [
    "test"
   ],
   "metadata": {
    "collapsed": false,
    "pycharm": {
     "name": "#%%\n"
    }
   }
  },
  {
   "cell_type": "markdown",
   "source": [
    "Not all predicted test"
   ],
   "metadata": {
    "collapsed": false
   }
  },
  {
   "cell_type": "code",
   "execution_count": 10,
   "outputs": [],
   "source": [
    "predicted = 0\n",
    "not_predicted = 0\n",
    "for i in users.index:\n",
    "    if discounts_for_test_product[i] == 0:\n",
    "        not_predicted += 1\n",
    "    else:\n",
    "        predicted +=1"
   ],
   "metadata": {
    "collapsed": false,
    "pycharm": {
     "name": "#%%\n"
    }
   }
  },
  {
   "cell_type": "markdown",
   "source": [
    "Number of predicted"
   ],
   "metadata": {
    "collapsed": false
   }
  },
  {
   "cell_type": "code",
   "execution_count": 11,
   "outputs": [
    {
     "data": {
      "text/plain": "165"
     },
     "execution_count": 11,
     "metadata": {},
     "output_type": "execute_result"
    }
   ],
   "source": [
    "predicted"
   ],
   "metadata": {
    "collapsed": false,
    "pycharm": {
     "name": "#%%\n"
    }
   }
  },
  {
   "cell_type": "markdown",
   "source": [
    "Number of not predicted"
   ],
   "metadata": {
    "collapsed": false
   }
  },
  {
   "cell_type": "code",
   "execution_count": 12,
   "outputs": [
    {
     "data": {
      "text/plain": "35"
     },
     "execution_count": 12,
     "metadata": {},
     "output_type": "execute_result"
    }
   ],
   "source": [
    "not_predicted"
   ],
   "metadata": {
    "collapsed": false,
    "pycharm": {
     "name": "#%%\n"
    }
   }
  }
 ],
 "metadata": {
  "kernelspec": {
   "display_name": "Python 3",
   "language": "python",
   "name": "python3"
  },
  "language_info": {
   "codemirror_mode": {
    "name": "ipython",
    "version": 3
   },
   "file_extension": ".py",
   "mimetype": "text/x-python",
   "name": "python",
   "nbconvert_exporter": "python",
   "pygments_lexer": "ipython3",
   "version": "3.6.8"
  }
 },
 "nbformat": 4,
 "nbformat_minor": 1
}