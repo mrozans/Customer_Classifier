{
 "cells": [
  {
   "cell_type": "code",
   "execution_count": 65,
   "metadata": {},
   "outputs": [],
   "source": [
    "import pandas as pd\n",
    "import numpy as np\n",
    "import copy\n",
    "from scipy.special import softmax\n",
    "import DataLoad as data\n",
    "from sklearn.ensemble import RandomForestClassifier\n",
    "from sklearn import linear_model\n",
    "from sklearn.model_selection import train_test_split\n",
    "from sklearn.metrics import confusion_matrix, precision_score\n",
    "from sklearn.metrics import recall_score, f1_score, accuracy_score"
   ]
  },
  {
   "cell_type": "code",
   "execution_count": 66,
   "metadata": {},
   "outputs": [],
   "source": [
    "def split_data(sessions, day_to_split= '2020-3-12'):\n",
    "    test = sessions_df.loc[sessions_df['timestamp'] > '2020-3-12']\n",
    "    train = sessions_df.loc[sessions_df['timestamp'] <= '2020-3-12']\n",
    "    return train, test"
   ]
  },
  {
   "cell_type": "code",
   "execution_count": 67,
   "metadata": {},
   "outputs": [],
   "source": [
    "sessions_df = data.load_sessions_data()\n",
    "train, test = split_data(sessions_df)"
   ]
  },
  {
   "cell_type": "code",
   "execution_count": 68,
   "metadata": {},
   "outputs": [],
   "source": [
    "users_df = data.load_users_data()\n",
    "products_df = data.load_products_data()"
   ]
  },
  {
   "cell_type": "code",
   "execution_count": 69,
   "metadata": {},
   "outputs": [],
   "source": [
    "class ClassificationModel:\n",
    "    \n",
    "    def __init__(self, n_estimators=20, max_depth=5, random_state=0):\n",
    "        self.n_estimators= n_estimators\n",
    "        self.max_depth = max_depth\n",
    "        self.random_state = random_state\n",
    "        self.clf = RandomForestClassifier(n_estimators = self.n_estimators, \n",
    "                                          max_depth = self.max_depth, \n",
    "                                          random_state = self.random_state)\n",
    "        \n",
    "    def train(self, users_df, sessions, products):\n",
    "        users = copy.deepcopy(users_df)\n",
    "        users = data.favourite_products(users, sessions, products)\n",
    "        users = data.spendings(users, sessions, products)\n",
    "        users = data.discounts_stats(users, sessions)\n",
    "        users = data.discounts_label(users, sessions)\n",
    "        users = users.set_index('user_id')\n",
    "        users = users.drop(['name', 'city', 'street',], axis=1)\n",
    "        users = users.fillna(0)\n",
    "        y_train = users['label']\n",
    "        X_train = users.drop('label', axis=1)\n",
    "        self.clf.fit(X_train, y_train)\n",
    "        \n",
    "    def predict(self, users_df, sessions, products):\n",
    "        users = copy.deepcopy(users_df)\n",
    "        users = data.favourite_products(users, sessions, products)\n",
    "        users = data.spendings(users, sessions, products)\n",
    "        users = data.discounts_stats(users, sessions)\n",
    "        users = users.set_index('user_id')\n",
    "        users = users.drop(['name', 'city', 'street',], axis=1)\n",
    "        users = users.fillna(0)\n",
    "        return self.clf.predict(users)"
   ]
  },
  {
   "cell_type": "code",
   "execution_count": 70,
   "metadata": {},
   "outputs": [],
   "source": [
    "model = ClassificationModel()"
   ]
  },
  {
   "cell_type": "code",
   "execution_count": 71,
   "metadata": {},
   "outputs": [],
   "source": [
    "model.train(users_df, train, products_df)"
   ]
  },
  {
   "cell_type": "code",
   "execution_count": 72,
   "metadata": {},
   "outputs": [
    {
     "data": {
      "text/plain": "array([1, 1, 1, 1, 1, 1, 1, 1, 1, 1, 1, 1, 1, 1, 0, 1, 1, 1, 1, 1, 1, 1,\n       1, 1, 1, 1, 0, 1, 1, 1, 1, 1, 1, 1, 1, 1, 1, 1, 1, 1, 1, 1, 0, 1,\n       1, 0, 1, 1, 1, 1, 0, 1, 1, 0, 1, 1, 1, 1, 1, 0, 1, 1, 1, 1, 1, 1,\n       1, 1, 1, 0, 1, 1, 0, 0, 1, 1, 1, 1, 1, 1, 1, 1, 1, 1, 1, 0, 0, 1,\n       1, 1, 0, 1, 1, 1, 1, 1, 1, 1, 1, 0, 1, 1, 1, 1, 1, 1, 1, 1, 1, 1,\n       1, 1, 1, 1, 1, 0, 1, 1, 1, 1, 1, 1, 1, 1, 1, 1, 1, 0, 1, 1, 1, 1,\n       1, 1, 1, 1, 1, 1, 1, 1, 1, 1, 1, 1, 1, 1, 1, 1, 1, 1, 1, 1, 1, 1,\n       1, 1, 1, 1, 1, 1, 1, 1, 1, 1, 1, 1, 1, 1, 1, 0, 1, 1, 1, 1, 1, 1,\n       1, 1, 0, 1, 1, 1, 1, 1, 1, 1, 0, 1, 1, 1, 1, 0, 1, 1, 1, 1, 1, 1,\n       1, 1], dtype=int64)"
     },
     "execution_count": 72,
     "metadata": {},
     "output_type": "execute_result"
    }
   ],
   "source": [
    "model.predict(users_df, test, products_df)"
   ]
  },
  {
   "cell_type": "code",
   "execution_count": 73,
   "metadata": {
    "pycharm": {
     "name": "#%%\n"
    }
   },
   "outputs": [],
   "source": [
    "pd.options.mode.chained_assignment = None\n",
    "cleared_sessions_df = train.loc[ (~sessions_df['user_id'].isna()) & (~sessions_df['product_id'].isna())]\n",
    "cleared_test_sessions_df = test.loc[ (~sessions_df['user_id'].isna()) & (~sessions_df['product_id'].isna())]"
   ]
  },
  {
   "cell_type": "code",
   "execution_count": 74,
   "metadata": {
    "pycharm": {
     "name": "#%%\n"
    }
   },
   "outputs": [],
   "source": [
    "class RegressionModel:\n",
    "    def __init__(self, classification_model, train_sessions):\n",
    "        self.reg_list = []\n",
    "        self.selected_users = []\n",
    "        self.classification_model = classification_model\n",
    "        self.train_sessions = train_sessions\n",
    "\n",
    "    def get_buys(self, uid):\n",
    "        drop_list = []\n",
    "        tmp = cleared_sessions_df.loc[(cleared_sessions_df['user_id'] == uid) & (cleared_sessions_df['event_type_BUY_PRODUCT'] == 1)]\n",
    "        i = -1\n",
    "        for index, row in tmp.iterrows():\n",
    "            if index in drop_list:\n",
    "                continue\n",
    "            i = i + 1\n",
    "            count = 1\n",
    "            sum = row['offered_discount']\n",
    "            j = i\n",
    "            tmp2 = tmp[(i + 1):]\n",
    "            for index2, row2 in tmp2.iterrows():\n",
    "                j = j + 1\n",
    "                if row['product_id'] == row2['product_id']:\n",
    "                    count = count + 1\n",
    "                    sum = sum + row2['offered_discount']\n",
    "                    tmp.drop(tmp.index[j], inplace=True)\n",
    "                    j = j - 1\n",
    "                    drop_list.append(index2)\n",
    "            if count > 1:\n",
    "                 tmp.at[index, 'offered_discount'] = sum / count\n",
    "        return tmp\n",
    "\n",
    "    def get_product_category(self, pid):\n",
    "        tmp = products_df.loc[((products_df['product_id']).isin(pid))]\n",
    "        tmp = tmp.drop(['product_name', 'price', 'product_id'], axis=1)\n",
    "        return tmp\n",
    "\n",
    "\n",
    "    def set_selected_users(self):\n",
    "        i = -1\n",
    "        selection = self.classification_model.predict(users_df, test, products_df)\n",
    "        for user in users_df['user_id']:\n",
    "            i = i + 1\n",
    "            if selection[i] == 1:\n",
    "                self.selected_users.append(user)\n",
    "\n",
    "\n",
    "    def train(self):\n",
    "        for id in self.selected_users:\n",
    "            reg = linear_model.LinearRegression()\n",
    "            user_buys = self.get_buys(id)\n",
    "            if len(user_buys.index) > 0:\n",
    "                reg.fit(model2.get_product_category(user_buys['product_id']), user_buys['offered_discount'])\n",
    "                self.reg_list.append([id, reg])\n",
    "            else:\n",
    "                self.reg_list.append([id, 0])\n",
    "\n",
    "    def find(self, id):\n",
    "        i = 0\n",
    "        for user in self.selected_users:\n",
    "            if id == user:\n",
    "                return i\n",
    "            i = i + 1\n",
    "        return -1\n",
    "\n",
    "\n",
    "    def predict(self, index):\n",
    "        #row = sessions_df.loc[sessions_df.index == index]\n",
    "        row = cleared_test_sessions_df.loc[cleared_test_sessions_df.index == index]\n",
    "        id = self.find(int(row['user_id']))\n",
    "        if id == -1:\n",
    "            return 0\n",
    "        if self.reg_list[id][1] == 0:\n",
    "            return 0\n",
    "        return self.reg_list[id][1].predict(self.get_product_category([row['product_id']]))\n",
    "    \n",
    "    def predict2(self, user_id, product_id):\n",
    "        id = self.find(user_id)\n",
    "        if id == -1:\n",
    "            return 0\n",
    "        if self.reg_list[id][1] == 0:\n",
    "            return 0\n",
    "        return self.reg_list[id][1].predict(self.get_product_category([product_id])) \n"
   ]
  },
  {
   "cell_type": "code",
   "execution_count": 75,
   "metadata": {
    "pycharm": {
     "name": "#%%\n"
    }
   },
   "outputs": [],
   "source": [
    "model2 = RegressionModel(model, cleared_sessions_df)"
   ]
  },
  {
   "cell_type": "code",
   "execution_count": 76,
   "metadata": {
    "pycharm": {
     "name": "#%%\n"
    }
   },
   "outputs": [
    {
     "name": "stdout",
     "output_type": "stream",
     "text": [
      "     Telefony i akcesoria  Telefony stacjonarne  Komputery  \\\n",
      "12                      0                     0          0   \n",
      "38                      0                     0          1   \n",
      "233                     0                     0          0   \n",
      "292                     0                     0          0   \n",
      "\n",
      "     Drukarki i skanery  Biurowe urządzenia wielofunkcyjne  Gry i konsole  \\\n",
      "12                    0                                  0              1   \n",
      "38                    0                                  0              0   \n",
      "233                   0                                  0              0   \n",
      "292                   0                                  0              0   \n",
      "\n",
      "     Gry na konsole  Gry Xbox 360  Monitory  Monitory LCD  ...  \\\n",
      "12                1             1         0             0  ...   \n",
      "38                0             0         1             1  ...   \n",
      "233               0             0         0             0  ...   \n",
      "292               0             0         0             0  ...   \n",
      "\n",
      "     Tablety i akcesoria  Tablety  Przenośne audio i video  \\\n",
      "12                     0        0                        0   \n",
      "38                     0        0                        0   \n",
      "233                    0        0                        0   \n",
      "292                    0        0                        0   \n",
      "\n",
      "     Odtwarzacze mp3 i mp4  Telewizory i akcesoria  Okulary 3D  Anteny RTV  \\\n",
      "12                       0                       0           0           0   \n",
      "38                       0                       0           0           0   \n",
      "233                      0                       0           0           0   \n",
      "292                      0                       1           0           1   \n",
      "\n",
      "     Zestawy słuchawkowe  Audio  Słuchawki  \n",
      "12                     0      0          0  \n",
      "38                     0      0          0  \n",
      "233                    0      0          0  \n",
      "292                    0      0          0  \n",
      "\n",
      "[4 rows x 28 columns]\n",
      "22    15\n",
      "33    20\n",
      "36    15\n",
      "88    20\n",
      "Name: offered_discount, dtype: int64\n"
     ]
    }
   ],
   "source": [
    "model2.set_selected_users()\n",
    "model2.train()"
   ]
  },
  {
   "cell_type": "code",
   "execution_count": 77,
   "metadata": {},
   "outputs": [
    {
     "data": {
      "text/plain": "array([15.73333333])"
     },
     "execution_count": 77,
     "metadata": {},
     "output_type": "execute_result"
    }
   ],
   "source": [
    "model2.predict(37)"
   ]
  },
  {
   "cell_type": "code",
   "execution_count": 78,
   "metadata": {},
   "outputs": [
    {
     "data": {
      "text/plain": "array([15.73333333])"
     },
     "execution_count": 78,
     "metadata": {},
     "output_type": "execute_result"
    }
   ],
   "source": [
    "model2.predict2(102, 1040)"
   ]
  },
  {
   "cell_type": "markdown",
   "metadata": {},
   "source": [
    "Test"
   ]
  },
  {
   "cell_type": "code",
   "execution_count": 79,
   "metadata": {},
   "outputs": [
    {
     "data": {
      "text/plain": "10082"
     },
     "execution_count": 79,
     "metadata": {},
     "output_type": "execute_result"
    }
   ],
   "source": [
    "len(cleared_test_sessions_df.index.tolist())"
   ]
  },
  {
   "cell_type": "code",
   "execution_count": 80,
   "metadata": {},
   "outputs": [],
   "source": [
    "class BaseModel:\n",
    "    def __init__(self):\n",
    "        self.discounts = {}\n",
    "        \n",
    "    def train(self, data, sessions):\n",
    "        for i in data['product_id'].unique():\n",
    "            if np.isfinite(i):\n",
    "                discounts = sessions.loc[(sessions['product_id'] == i) \n",
    "                                                          & (sessions['event_type_BUY_PRODUCT'] == 1) ]['offered_discount']\n",
    "                if len(discounts) != 0:\n",
    "                    self.discounts[i] = np.average(discounts)\n",
    "                else:\n",
    "                    self.discounts[i] = np.random.randint(21)\n",
    "                \n",
    "    def predict(self, product_id):\n",
    "        try:\n",
    "            return self.discounts[product_id]\n",
    "        except:\n",
    "            return 0"
   ]
  },
  {
   "cell_type": "code",
   "execution_count": 81,
   "metadata": {},
   "outputs": [],
   "source": [
    "base_model = BaseModel()"
   ]
  },
  {
   "cell_type": "code",
   "execution_count": 82,
   "metadata": {},
   "outputs": [],
   "source": [
    "base_model.train(products_df, cleared_sessions_df)"
   ]
  },
  {
   "cell_type": "code",
   "execution_count": 83,
   "metadata": {},
   "outputs": [],
   "source": [
    "score = 0.0\n",
    "base_score = 0.0\n",
    "for i in cleared_test_sessions_df.index.tolist():\n",
    "    pred = model2.predict(i)\n",
    "    base_pred = base_model.predict(cleared_test_sessions_df.loc[cleared_test_sessions_df.index == i]['product_id'].tolist()[0])\n",
    "    if pred >= cleared_test_sessions_df.loc[cleared_test_sessions_df.index == i]['offered_discount'].tolist()[0]:\n",
    "        score += 1 * (100 - pred)/100\n",
    "    if base_pred >= cleared_test_sessions_df.loc[cleared_test_sessions_df.index == i]['offered_discount'].tolist()[0]:\n",
    "        base_score += 1 * (100 - base_pred)/100"
   ]
  },
  {
   "cell_type": "code",
   "execution_count": 84,
   "metadata": {},
   "outputs": [
    {
     "name": "stdout",
     "output_type": "stream",
     "text": [
      "[7200.52425163]\n",
      "7109.722204857276\n"
     ]
    }
   ],
   "source": [
    "print(score)\n",
    "print(base_score)"
   ]
  },
  {
   "cell_type": "code",
   "execution_count": 85,
   "metadata": {},
   "outputs": [
    {
     "data": {
      "text/plain": "Int64Index([   37,    38,    39,    40,    41,    42,    43,    44,    45,\n               46,\n            ...\n            55087, 55088, 55089, 55090, 55091, 55092, 55093, 55094, 55095,\n            55109],\n           dtype='int64', length=10082)"
     },
     "execution_count": 85,
     "metadata": {},
     "output_type": "execute_result"
    }
   ],
   "source": [
    "cleared_test_sessions_df.index"
   ]
  },
  {
   "cell_type": "code",
   "execution_count": 86,
   "metadata": {},
   "outputs": [
    {
     "data": {
      "text/plain": "15"
     },
     "execution_count": 86,
     "metadata": {},
     "output_type": "execute_result"
    }
   ],
   "source": [
    "cleared_test_sessions_df.loc[cleared_test_sessions_df.index == 37]['offered_discount'].tolist()[0]"
   ]
  }
 ],
 "metadata": {
  "kernelspec": {
   "display_name": "Python 3",
   "language": "python",
   "name": "python3"
  },
  "language_info": {
   "codemirror_mode": {
    "name": "ipython",
    "version": 3
   },
   "file_extension": ".py",
   "mimetype": "text/x-python",
   "name": "python",
   "nbconvert_exporter": "python",
   "pygments_lexer": "ipython3",
   "version": "3.6.8"
  }
 },
 "nbformat": 4,
 "nbformat_minor": 4
}