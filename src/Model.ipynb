{
 "cells": [
  {
   "cell_type": "code",
   "execution_count": 1,
   "metadata": {},
   "outputs": [],
   "source": [
    "import pandas as pd\n",
    "import numpy as np\n",
    "import copy\n",
    "from scipy.special import softmax\n",
    "import DataLoad as data\n",
    "from sklearn.ensemble import RandomForestClassifier\n",
    "from sklearn import linear_model\n",
    "from sklearn.model_selection import train_test_split\n",
    "from sklearn.metrics import confusion_matrix, precision_score\n",
    "from sklearn.metrics import recall_score, f1_score, accuracy_score"
   ]
  },
  {
   "cell_type": "code",
   "execution_count": 2,
   "metadata": {},
   "outputs": [],
   "source": [
    "def split_data(sessions, day_to_split= '2020-3-12'):\n",
    "    test = sessions_df.loc[sessions_df['timestamp'] > '2020-3-12']\n",
    "    train = sessions_df.loc[sessions_df['timestamp'] <= '2020-3-12']\n",
    "    return train, test"
   ]
  },
  {
   "cell_type": "code",
   "execution_count": 3,
   "metadata": {},
   "outputs": [],
   "source": [
    "sessions_df = data.load_sessions_data()\n",
    "train, test = split_data(sessions_df)"
   ]
  },
  {
   "cell_type": "code",
   "execution_count": 4,
   "metadata": {},
   "outputs": [],
   "source": [
    "users_df = data.load_users_data()\n",
    "products_df = data.load_products_data()"
   ]
  },
  {
   "cell_type": "code",
   "execution_count": 5,
   "metadata": {},
   "outputs": [],
   "source": [
    "class ClassificationModel:\n",
    "    \n",
    "    def __init__(self, n_estimators=20, max_depth=5, random_state=0):\n",
    "        self.n_estimators= n_estimators\n",
    "        self.max_depth = max_depth\n",
    "        self.random_state = random_state\n",
    "        self.clf = RandomForestClassifier(n_estimators = self.n_estimators, \n",
    "                                          max_depth = self.max_depth, \n",
    "                                          random_state = self.random_state)\n",
    "        \n",
    "    def train(self, users_df, sessions, products):\n",
    "        users = copy.deepcopy(users_df)\n",
    "        users = data.favourite_products(users, sessions, products)\n",
    "        users = data.spendings(users, sessions, products)\n",
    "        users = data.discounts_stats(users, sessions)\n",
    "        users = data.discounts_label(users, sessions)\n",
    "        users = users.set_index('user_id')\n",
    "        users = users.drop(['name', 'city', 'street',], axis=1)\n",
    "        users = users.fillna(0)\n",
    "        y_train = users['label']\n",
    "        X_train = users.drop('label', axis=1)\n",
    "        self.clf.fit(X_train, y_train)\n",
    "        \n",
    "    def predict(self, users_df, sessions, products):\n",
    "        users = copy.deepcopy(users_df)\n",
    "        users = data.favourite_products(users, sessions, products)\n",
    "        users = data.spendings(users, sessions, products)\n",
    "        users = data.discounts_stats(users, sessions)\n",
    "        users = users.set_index('user_id')\n",
    "        users = users.drop(['name', 'city', 'street',], axis=1)\n",
    "        users = users.fillna(0)\n",
    "        return self.clf.predict(users)"
   ]
  },
  {
   "cell_type": "code",
   "execution_count": 6,
   "metadata": {},
   "outputs": [],
   "source": [
    "model = ClassificationModel()"
   ]
  },
  {
   "cell_type": "code",
   "execution_count": 7,
   "metadata": {},
   "outputs": [],
   "source": [
    "model.train(users_df, train, products_df)"
   ]
  },
  {
   "cell_type": "code",
   "execution_count": 8,
   "metadata": {},
   "outputs": [
    {
     "data": {
      "text/plain": [
       "array([1, 1, 1, 1, 1, 1, 1, 1, 1, 1, 1, 1, 1, 1, 0, 1, 1, 1, 1, 1, 1, 1,\n",
       "       1, 1, 1, 1, 0, 1, 1, 1, 1, 1, 1, 1, 1, 1, 1, 1, 1, 1, 1, 1, 0, 1,\n",
       "       1, 0, 1, 1, 1, 1, 0, 1, 1, 0, 1, 1, 1, 1, 1, 0, 1, 1, 1, 1, 1, 1,\n",
       "       1, 1, 1, 0, 1, 1, 0, 0, 1, 1, 1, 1, 1, 1, 1, 1, 1, 1, 1, 0, 0, 1,\n",
       "       1, 1, 0, 1, 1, 1, 1, 1, 1, 1, 1, 0, 1, 1, 1, 1, 1, 1, 1, 1, 1, 1,\n",
       "       1, 1, 1, 1, 1, 0, 1, 1, 1, 1, 1, 1, 1, 1, 1, 1, 1, 0, 1, 1, 1, 1,\n",
       "       1, 1, 1, 1, 1, 1, 1, 1, 1, 1, 1, 1, 1, 1, 1, 1, 1, 1, 1, 1, 1, 1,\n",
       "       1, 1, 1, 1, 1, 1, 1, 1, 1, 1, 1, 1, 1, 1, 1, 0, 1, 1, 1, 1, 1, 1,\n",
       "       1, 1, 0, 1, 1, 1, 1, 1, 1, 1, 0, 1, 1, 1, 1, 0, 1, 1, 1, 1, 1, 1,\n",
       "       1, 1], dtype=int64)"
      ]
     },
     "execution_count": 8,
     "metadata": {},
     "output_type": "execute_result"
    }
   ],
   "source": [
    "model.predict(users_df, test, products_df)"
   ]
  },
  {
   "cell_type": "code",
   "execution_count": 10,
   "metadata": {
    "pycharm": {
     "name": "#%%\n"
    }
   },
   "outputs": [],
   "source": [
    "pd.options.mode.chained_assignment = None\n",
    "cleared_sessions_df = train.loc[ (~sessions_df['user_id'].isna()) & (~sessions_df['product_id'].isna())]\n",
    "cleared_test_sessions_df = test.loc[ (~sessions_df['user_id'].isna()) & (~sessions_df['product_id'].isna())]"
   ]
  },
  {
   "cell_type": "code",
   "execution_count": 66,
   "metadata": {
    "pycharm": {
     "name": "#%%\n"
    }
   },
   "outputs": [],
   "source": [
    "class RegressionModel:\n",
    "    def __init__(self, classification_model, train_sessions):\n",
    "        self.reg_list = []\n",
    "        self.selected_users = []\n",
    "        self.classification_model = classification_model\n",
    "        self.train_sessions = train_sessions\n",
    "\n",
    "    def get_buys(self, uid):\n",
    "        drop_list = []\n",
    "        tmp = cleared_sessions_df.loc[(cleared_sessions_df['user_id'] == uid) & (cleared_sessions_df['event_type_BUY_PRODUCT'] == 1)]\n",
    "        i = -1\n",
    "        for index, row in tmp.iterrows():\n",
    "            if index in drop_list:\n",
    "                continue\n",
    "            i = i + 1\n",
    "            count = 1\n",
    "            sum = row['offered_discount']\n",
    "            j = i\n",
    "            tmp2 = tmp[(i + 1):]\n",
    "            for index2, row2 in tmp2.iterrows():\n",
    "                j = j + 1\n",
    "                if row['product_id'] == row2['product_id']:\n",
    "                    count = count + 1\n",
    "                    sum = sum + row2['offered_discount']\n",
    "                    tmp.drop(tmp.index[j], inplace=True)\n",
    "                    j = j - 1\n",
    "                    drop_list.append(index2)\n",
    "            if count > 1:\n",
    "                 tmp.at[index, 'offered_discount'] = sum / count\n",
    "\n",
    "        return tmp\n",
    "\n",
    "    def get_product_category(self, pid):\n",
    "        tmp = products_df.loc[((products_df['product_id']).isin(pid))]\n",
    "        tmp = tmp.drop(['product_name', 'price', 'product_id'], axis=1)\n",
    "        return tmp\n",
    "\n",
    "\n",
    "    def set_selected_users(self):\n",
    "        i = -1\n",
    "        selection = self.classification_model.predict(users_df, test, products_df)\n",
    "        for user in users_df['user_id']:\n",
    "            i = i + 1\n",
    "            if selection[i] == 1:\n",
    "                self.selected_users.append(user)\n",
    "\n",
    "\n",
    "    def train(self):\n",
    "        for id in self.selected_users:\n",
    "            reg = linear_model.LinearRegression()\n",
    "            user_buys = self.get_buys(id)\n",
    "            if len(user_buys.index) > 0:\n",
    "                reg.fit(model2.get_product_category(user_buys['product_id']), user_buys['offered_discount'])\n",
    "                self.reg_list.append([id, reg])\n",
    "            else:\n",
    "                self.reg_list.append([id, 0])\n",
    "\n",
    "    def find(self, id):\n",
    "        i = 0\n",
    "        for user in self.selected_users:\n",
    "            if id == user:\n",
    "                return i\n",
    "            i = i + 1\n",
    "        return -1\n",
    "\n",
    "\n",
    "    def predict(self, index):\n",
    "        #row = sessions_df.loc[sessions_df.index == index]\n",
    "        row = cleared_test_sessions_df.loc[cleared_test_sessions_df.index == index]\n",
    "        id = self.find(int(row['user_id']))\n",
    "        if id == -1:\n",
    "            return 0\n",
    "        if self.reg_list[id][1] == 0:\n",
    "            return 0\n",
    "        return self.reg_list[id][1].predict(self.get_product_category([row['product_id']]))\n",
    "    \n",
    "    def predict2(self, user_id, product_id):\n",
    "        id = self.find(user_id)\n",
    "        if id == -1:\n",
    "            return 0\n",
    "        if self.reg_list[id][1] == 0:\n",
    "            return 0\n",
    "        return self.reg_list[id][1].predict(self.get_product_category([product_id])) \n"
   ]
  },
  {
   "cell_type": "code",
   "execution_count": 67,
   "metadata": {
    "pycharm": {
     "name": "#%%\n"
    }
   },
   "outputs": [],
   "source": [
    "model2 = RegressionModel(model, cleared_sessions_df)"
   ]
  },
  {
   "cell_type": "code",
   "execution_count": 68,
   "metadata": {
    "pycharm": {
     "name": "#%%\n"
    }
   },
   "outputs": [],
   "source": [
    "model2.set_selected_users()\n",
    "model2.train()"
   ]
  },
  {
   "cell_type": "code",
   "execution_count": 72,
   "metadata": {},
   "outputs": [
    {
     "data": {
      "text/plain": [
       "array([15.73333333])"
      ]
     },
     "execution_count": 72,
     "metadata": {},
     "output_type": "execute_result"
    }
   ],
   "source": [
    "model2.predict(37)"
   ]
  },
  {
   "cell_type": "code",
   "execution_count": 73,
   "metadata": {},
   "outputs": [
    {
     "data": {
      "text/plain": [
       "array([15.73333333])"
      ]
     },
     "execution_count": 73,
     "metadata": {},
     "output_type": "execute_result"
    }
   ],
   "source": [
    "model2.predict2(102, 1040)"
   ]
  },
  {
   "cell_type": "code",
   "execution_count": 64,
   "metadata": {},
   "outputs": [
    {
     "data": {
      "text/html": [
       "<div>\n",
       "<style scoped>\n",
       "    .dataframe tbody tr th:only-of-type {\n",
       "        vertical-align: middle;\n",
       "    }\n",
       "\n",
       "    .dataframe tbody tr th {\n",
       "        vertical-align: top;\n",
       "    }\n",
       "\n",
       "    .dataframe thead th {\n",
       "        text-align: right;\n",
       "    }\n",
       "</style>\n",
       "<table border=\"1\" class=\"dataframe\">\n",
       "  <thead>\n",
       "    <tr style=\"text-align: right;\">\n",
       "      <th></th>\n",
       "      <th>session_id</th>\n",
       "      <th>timestamp</th>\n",
       "      <th>user_id</th>\n",
       "      <th>product_id</th>\n",
       "      <th>offered_discount</th>\n",
       "      <th>purchase_id</th>\n",
       "      <th>event_type_BUY_PRODUCT</th>\n",
       "      <th>event_type_VIEW_PRODUCT</th>\n",
       "    </tr>\n",
       "  </thead>\n",
       "  <tbody>\n",
       "    <tr>\n",
       "      <th>0</th>\n",
       "      <td>100001</td>\n",
       "      <td>2020-01-15 13:44:51</td>\n",
       "      <td>102.0</td>\n",
       "      <td>1017.0</td>\n",
       "      <td>0</td>\n",
       "      <td>NaN</td>\n",
       "      <td>0</td>\n",
       "      <td>1</td>\n",
       "    </tr>\n",
       "    <tr>\n",
       "      <th>1</th>\n",
       "      <td>100001</td>\n",
       "      <td>2020-01-15 13:48:01</td>\n",
       "      <td>102.0</td>\n",
       "      <td>1025.0</td>\n",
       "      <td>0</td>\n",
       "      <td>NaN</td>\n",
       "      <td>0</td>\n",
       "      <td>1</td>\n",
       "    </tr>\n",
       "    <tr>\n",
       "      <th>2</th>\n",
       "      <td>100001</td>\n",
       "      <td>2020-01-15 13:49:47</td>\n",
       "      <td>102.0</td>\n",
       "      <td>1030.0</td>\n",
       "      <td>0</td>\n",
       "      <td>NaN</td>\n",
       "      <td>0</td>\n",
       "      <td>1</td>\n",
       "    </tr>\n",
       "    <tr>\n",
       "      <th>3</th>\n",
       "      <td>100001</td>\n",
       "      <td>2020-01-15 13:50:34</td>\n",
       "      <td>102.0</td>\n",
       "      <td>1032.0</td>\n",
       "      <td>0</td>\n",
       "      <td>NaN</td>\n",
       "      <td>0</td>\n",
       "      <td>1</td>\n",
       "    </tr>\n",
       "    <tr>\n",
       "      <th>4</th>\n",
       "      <td>100001</td>\n",
       "      <td>2020-01-15 13:52:02</td>\n",
       "      <td>102.0</td>\n",
       "      <td>1033.0</td>\n",
       "      <td>0</td>\n",
       "      <td>NaN</td>\n",
       "      <td>0</td>\n",
       "      <td>1</td>\n",
       "    </tr>\n",
       "    <tr>\n",
       "      <th>...</th>\n",
       "      <td>...</td>\n",
       "      <td>...</td>\n",
       "      <td>...</td>\n",
       "      <td>...</td>\n",
       "      <td>...</td>\n",
       "      <td>...</td>\n",
       "      <td>...</td>\n",
       "      <td>...</td>\n",
       "    </tr>\n",
       "    <tr>\n",
       "      <th>55105</th>\n",
       "      <td>110273</td>\n",
       "      <td>2020-02-17 03:13:41</td>\n",
       "      <td>301.0</td>\n",
       "      <td>1012.0</td>\n",
       "      <td>15</td>\n",
       "      <td>NaN</td>\n",
       "      <td>0</td>\n",
       "      <td>1</td>\n",
       "    </tr>\n",
       "    <tr>\n",
       "      <th>55106</th>\n",
       "      <td>110273</td>\n",
       "      <td>2020-02-17 03:17:18</td>\n",
       "      <td>301.0</td>\n",
       "      <td>1013.0</td>\n",
       "      <td>15</td>\n",
       "      <td>NaN</td>\n",
       "      <td>0</td>\n",
       "      <td>1</td>\n",
       "    </tr>\n",
       "    <tr>\n",
       "      <th>55107</th>\n",
       "      <td>110274</td>\n",
       "      <td>2020-02-29 22:45:54</td>\n",
       "      <td>NaN</td>\n",
       "      <td>1001.0</td>\n",
       "      <td>0</td>\n",
       "      <td>NaN</td>\n",
       "      <td>0</td>\n",
       "      <td>1</td>\n",
       "    </tr>\n",
       "    <tr>\n",
       "      <th>55108</th>\n",
       "      <td>110275</td>\n",
       "      <td>2020-01-24 18:01:37</td>\n",
       "      <td>301.0</td>\n",
       "      <td>1283.0</td>\n",
       "      <td>0</td>\n",
       "      <td>NaN</td>\n",
       "      <td>0</td>\n",
       "      <td>1</td>\n",
       "    </tr>\n",
       "    <tr>\n",
       "      <th>55109</th>\n",
       "      <td>110276</td>\n",
       "      <td>2020-03-26 12:37:51</td>\n",
       "      <td>301.0</td>\n",
       "      <td>1283.0</td>\n",
       "      <td>10</td>\n",
       "      <td>NaN</td>\n",
       "      <td>0</td>\n",
       "      <td>1</td>\n",
       "    </tr>\n",
       "  </tbody>\n",
       "</table>\n",
       "<p>55110 rows × 8 columns</p>\n",
       "</div>"
      ],
      "text/plain": [
       "       session_id           timestamp  user_id  product_id  offered_discount  \\\n",
       "0          100001 2020-01-15 13:44:51    102.0      1017.0                 0   \n",
       "1          100001 2020-01-15 13:48:01    102.0      1025.0                 0   \n",
       "2          100001 2020-01-15 13:49:47    102.0      1030.0                 0   \n",
       "3          100001 2020-01-15 13:50:34    102.0      1032.0                 0   \n",
       "4          100001 2020-01-15 13:52:02    102.0      1033.0                 0   \n",
       "...           ...                 ...      ...         ...               ...   \n",
       "55105      110273 2020-02-17 03:13:41    301.0      1012.0                15   \n",
       "55106      110273 2020-02-17 03:17:18    301.0      1013.0                15   \n",
       "55107      110274 2020-02-29 22:45:54      NaN      1001.0                 0   \n",
       "55108      110275 2020-01-24 18:01:37    301.0      1283.0                 0   \n",
       "55109      110276 2020-03-26 12:37:51    301.0      1283.0                10   \n",
       "\n",
       "       purchase_id  event_type_BUY_PRODUCT  event_type_VIEW_PRODUCT  \n",
       "0              NaN                       0                        1  \n",
       "1              NaN                       0                        1  \n",
       "2              NaN                       0                        1  \n",
       "3              NaN                       0                        1  \n",
       "4              NaN                       0                        1  \n",
       "...            ...                     ...                      ...  \n",
       "55105          NaN                       0                        1  \n",
       "55106          NaN                       0                        1  \n",
       "55107          NaN                       0                        1  \n",
       "55108          NaN                       0                        1  \n",
       "55109          NaN                       0                        1  \n",
       "\n",
       "[55110 rows x 8 columns]"
      ]
     },
     "execution_count": 64,
     "metadata": {},
     "output_type": "execute_result"
    }
   ],
   "source": [
    "sessions_df.loc[sesions]"
   ]
  },
  {
   "cell_type": "markdown",
   "metadata": {},
   "source": [
    "Test"
   ]
  },
  {
   "cell_type": "code",
   "execution_count": 22,
   "metadata": {},
   "outputs": [
    {
     "data": {
      "text/plain": [
       "10082"
      ]
     },
     "execution_count": 22,
     "metadata": {},
     "output_type": "execute_result"
    }
   ],
   "source": [
    "len(cleared_test_sessions_df.index.tolist())"
   ]
  },
  {
   "cell_type": "code",
   "execution_count": 52,
   "metadata": {},
   "outputs": [],
   "source": [
    "class BaseModel:\n",
    "    def __init__(self):\n",
    "        self.discounts = {}\n",
    "        \n",
    "    def train(self, data, sessions):\n",
    "        for i in data['product_id'].unique():\n",
    "            if np.isfinite(i):\n",
    "                discounts = sessions.loc[(sessions['product_id'] == i) \n",
    "                                                          & (sessions['event_type_BUY_PRODUCT'] == 1) ]['offered_discount']\n",
    "                if len(discounts) != 0:\n",
    "                    self.discounts[i] = np.average(discounts)\n",
    "                else:\n",
    "                    self.discounts[i] = np.random.randint(21)\n",
    "                \n",
    "    def predict(self, product_id):\n",
    "        try:\n",
    "            return self.discounts[product_id]\n",
    "        except:\n",
    "            return 0"
   ]
  },
  {
   "cell_type": "code",
   "execution_count": 53,
   "metadata": {},
   "outputs": [],
   "source": [
    "base_model = BaseModel()"
   ]
  },
  {
   "cell_type": "code",
   "execution_count": 54,
   "metadata": {},
   "outputs": [],
   "source": [
    "base_model.train(products_df, cleared_sessions_df)"
   ]
  },
  {
   "cell_type": "code",
   "execution_count": 57,
   "metadata": {},
   "outputs": [],
   "source": [
    "score = 0.0\n",
    "base_score = 0.0\n",
    "for i in cleared_test_sessions_df.index.tolist():\n",
    "    pred = model2.predict(i)\n",
    "    base_pred = base_model.predict(cleared_test_sessions_df.loc[cleared_test_sessions_df.index == i]['product_id'].tolist()[0])\n",
    "    if pred >= cleared_test_sessions_df.loc[cleared_test_sessions_df.index == i]['offered_discount'].tolist()[0]:\n",
    "        score += 1 * (100 - pred)/100\n",
    "    if base_pred >= cleared_test_sessions_df.loc[cleared_test_sessions_df.index == i]['offered_discount'].tolist()[0]:\n",
    "        base_score += 1 * (100 - base_pred)/100"
   ]
  },
  {
   "cell_type": "code",
   "execution_count": 58,
   "metadata": {},
   "outputs": [
    {
     "name": "stdout",
     "output_type": "stream",
     "text": [
      "[7208.92184158]\n",
      "7015.5522048573575\n"
     ]
    }
   ],
   "source": [
    "print(score)\n",
    "print(base_score)"
   ]
  },
  {
   "cell_type": "code",
   "execution_count": 28,
   "metadata": {},
   "outputs": [
    {
     "data": {
      "text/plain": [
       "Int64Index([   37,    38,    39,    40,    41,    42,    43,    44,    45,\n",
       "               46,\n",
       "            ...\n",
       "            55087, 55088, 55089, 55090, 55091, 55092, 55093, 55094, 55095,\n",
       "            55109],\n",
       "           dtype='int64', length=10082)"
      ]
     },
     "execution_count": 28,
     "metadata": {},
     "output_type": "execute_result"
    }
   ],
   "source": [
    "cleared_test_sessions_df.index"
   ]
  },
  {
   "cell_type": "code",
   "execution_count": 40,
   "metadata": {},
   "outputs": [
    {
     "data": {
      "text/plain": [
       "15"
      ]
     },
     "execution_count": 40,
     "metadata": {},
     "output_type": "execute_result"
    }
   ],
   "source": [
    "cleared_test_sessions_df.loc[cleared_test_sessions_df.index == 37]['offered_discount'].tolist()[0]"
   ]
  }
 ],
 "metadata": {
  "kernelspec": {
   "display_name": "Python 3",
   "language": "python",
   "name": "python3"
  },
  "language_info": {
   "codemirror_mode": {
    "name": "ipython",
    "version": 3
   },
   "file_extension": ".py",
   "mimetype": "text/x-python",
   "name": "python",
   "nbconvert_exporter": "python",
   "pygments_lexer": "ipython3",
   "version": "3.6.8"
  }
 },
 "nbformat": 4,
 "nbformat_minor": 4
}
