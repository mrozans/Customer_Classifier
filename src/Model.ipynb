{
 "cells": [
  {
   "cell_type": "code",
   "execution_count": 31,
   "metadata": {},
   "outputs": [],
   "source": [
    "import pandas as pd\n",
    "import numpy as np\n",
    "import copy\n",
    "from scipy.special import softmax\n",
    "import DataLoad as data\n",
    "from sklearn.ensemble import RandomForestClassifier\n",
    "from sklearn import linear_model\n",
    "from sklearn.model_selection import train_test_split\n",
    "from sklearn.metrics import confusion_matrix, precision_score\n",
    "from sklearn.metrics import recall_score, f1_score, accuracy_score"
   ]
  },
  {
   "cell_type": "code",
   "execution_count": 32,
   "metadata": {},
   "outputs": [],
   "source": [
    "def split_data(sessions, day_to_split= '2020-3-12'):\n",
    "    test = sessions_df.loc[sessions_df['timestamp'] > '2020-3-12']\n",
    "    train = sessions_df.loc[sessions_df['timestamp'] <= '2020-3-12']\n",
    "    return train, test"
   ]
  },
  {
   "cell_type": "code",
   "execution_count": 33,
   "metadata": {},
   "outputs": [],
   "source": [
    "sessions_df = data.load_sessions_data()\n",
    "train, test = split_data(sessions_df)"
   ]
  },
  {
   "cell_type": "code",
   "execution_count": 34,
   "metadata": {},
   "outputs": [],
   "source": [
    "users_df = data.load_users_data()\n",
    "products_df = data.load_products_data()"
   ]
  },
  {
   "cell_type": "code",
   "execution_count": 35,
   "metadata": {},
   "outputs": [],
   "source": [
    "class ClassificationModel:\n",
    "    \n",
    "    def __init__(self, n_estimators=20, max_depth=5, random_state=0):\n",
    "        self.n_estimators= n_estimators\n",
    "        self.max_depth = max_depth\n",
    "        self.random_state = random_state\n",
    "        self.clf = RandomForestClassifier(n_estimators = self.n_estimators, \n",
    "                                          max_depth = self.max_depth, \n",
    "                                          random_state = self.random_state)\n",
    "        \n",
    "    def train(self, users_df, sessions, products):\n",
    "        users = copy.deepcopy(users_df)\n",
    "        users = data.favourite_products(users, sessions, products)\n",
    "        users = data.spendings(users, sessions, products)\n",
    "        users = data.discounts_stats(users, sessions)\n",
    "        users = data.discounts_label(users, sessions)\n",
    "        users = users.set_index('user_id')\n",
    "        users = users.drop(['name', 'city', 'street',], axis=1)\n",
    "        users = users.fillna(0)\n",
    "        y_train = users['label']\n",
    "        X_train = users.drop('label', axis=1)\n",
    "        self.clf.fit(X_train, y_train)\n",
    "        \n",
    "    def predict(self, users_df, sessions, products):\n",
    "        users = copy.deepcopy(users_df)\n",
    "        users = data.favourite_products(users, sessions, products)\n",
    "        users = data.spendings(users, sessions, products)\n",
    "        users = data.discounts_stats(users, sessions)\n",
    "        users = users.set_index('user_id')\n",
    "        users = users.drop(['name', 'city', 'street',], axis=1)\n",
    "        users = users.fillna(0)\n",
    "        return self.clf.predict(users)"
   ]
  },
  {
   "cell_type": "code",
   "execution_count": 36,
   "metadata": {},
   "outputs": [],
   "source": [
    "model = ClassificationModel()"
   ]
  },
  {
   "cell_type": "code",
   "execution_count": 37,
   "metadata": {},
   "outputs": [],
   "source": [
    "model.train(users_df, train, products_df)"
   ]
  },
  {
   "cell_type": "code",
   "execution_count": 38,
   "metadata": {},
   "outputs": [
    {
     "data": {
      "text/plain": "array([1, 1, 1, 1, 1, 1, 1, 1, 1, 1, 1, 1, 1, 1, 0, 1, 1, 1, 1, 1, 1, 1,\n       1, 1, 1, 1, 0, 1, 1, 1, 1, 1, 1, 1, 1, 1, 1, 1, 1, 1, 1, 1, 0, 1,\n       1, 0, 1, 1, 1, 1, 0, 1, 1, 0, 1, 1, 1, 1, 1, 0, 1, 1, 1, 1, 1, 1,\n       1, 1, 1, 0, 1, 1, 0, 0, 1, 1, 1, 1, 1, 1, 1, 1, 1, 1, 1, 0, 0, 1,\n       1, 1, 0, 1, 1, 1, 1, 1, 1, 1, 1, 0, 1, 1, 1, 1, 1, 1, 1, 1, 1, 1,\n       1, 1, 1, 1, 1, 0, 1, 1, 1, 1, 1, 1, 1, 1, 1, 1, 1, 0, 1, 1, 1, 1,\n       1, 1, 1, 1, 1, 1, 1, 1, 1, 1, 1, 1, 1, 1, 1, 1, 1, 1, 1, 1, 1, 1,\n       1, 1, 1, 1, 1, 1, 1, 1, 1, 1, 1, 1, 1, 1, 1, 0, 1, 1, 1, 1, 1, 1,\n       1, 1, 0, 1, 1, 1, 1, 1, 1, 1, 0, 1, 1, 1, 1, 0, 1, 1, 1, 1, 1, 1,\n       1, 1], dtype=int64)"
     },
     "execution_count": 38,
     "metadata": {},
     "output_type": "execute_result"
    }
   ],
   "source": [
    "model.predict(users_df, test, products_df)"
   ]
  },
  {
   "cell_type": "code",
   "execution_count": 39,
   "outputs": [],
   "source": [
    "pd.options.mode.chained_assignment = None\n",
    "cleared_sessions_df = train.loc[ (~sessions_df['user_id'].isna()) & (~sessions_df['product_id'].isna())]\n",
    "cleared_test_sessions_df = test.loc[ (~sessions_df['user_id'].isna()) & (~sessions_df['product_id'].isna())]"
   ],
   "metadata": {
    "collapsed": false,
    "pycharm": {
     "name": "#%%\n"
    }
   }
  },
  {
   "cell_type": "code",
   "execution_count": 40,
   "outputs": [],
   "source": [
    "class RegressionModel:\n",
    "    def __init__(self, classification_model, train_sessions):\n",
    "        self.reg_list = []\n",
    "        self.selected_users = []\n",
    "        self.classification_model = classification_model\n",
    "        self.train_sessions = train_sessions\n",
    "\n",
    "    def get_buys(self, uid):\n",
    "        drop_list = []\n",
    "        tmp = cleared_sessions_df.loc[(cleared_sessions_df['user_id'] == uid) & (cleared_sessions_df['event_type_BUY_PRODUCT'] == 1)]\n",
    "        i = -1\n",
    "        for index, row in tmp.iterrows():\n",
    "            if index in drop_list:\n",
    "                continue\n",
    "            i = i + 1\n",
    "            count = 1\n",
    "            sum = row['offered_discount']\n",
    "            j = i\n",
    "            tmp2 = tmp[(i + 1):]\n",
    "            for index2, row2 in tmp2.iterrows():\n",
    "                j = j + 1\n",
    "                if row['product_id'] == row2['product_id']:\n",
    "                    count = count + 1\n",
    "                    sum = sum + row2['offered_discount']\n",
    "                    tmp.drop(tmp.index[j], inplace=True)\n",
    "                    j = j - 1\n",
    "                    drop_list.append(index2)\n",
    "            if count > 1:\n",
    "                 tmp.at[index, 'offered_discount'] = sum / count\n",
    "\n",
    "        return tmp\n",
    "\n",
    "    def get_product_category(self, pid):\n",
    "        tmp = products_df.loc[((products_df['product_id']).isin(pid))]\n",
    "        tmp = tmp.drop(['product_name', 'price', 'product_id'], axis=1)\n",
    "        return tmp\n",
    "\n",
    "\n",
    "    def set_selected_users(self):\n",
    "        i = -1\n",
    "        selection = self.classification_model.predict(users_df, test, products_df)\n",
    "        for user in users_df['user_id']:\n",
    "            i = i + 1\n",
    "            if selection[i] == 1:\n",
    "                self.selected_users.append(user)\n",
    "\n",
    "\n",
    "    def train(self):\n",
    "        for id in self.selected_users:\n",
    "            reg = linear_model.LinearRegression()\n",
    "            user_buys = self.get_buys(id)\n",
    "            if len(user_buys.index) > 0:\n",
    "                reg.fit(model2.get_product_category(user_buys['product_id']), user_buys['offered_discount'])\n",
    "                self.reg_list.append([id, reg])\n",
    "            else:\n",
    "                self.reg_list.append([id, 0])\n",
    "\n"
   ],
   "metadata": {
    "collapsed": false,
    "pycharm": {
     "name": "#%%\n"
    }
   }
  },
  {
   "cell_type": "code",
   "execution_count": 41,
   "outputs": [],
   "source": [
    "model2 = RegressionModel(model, cleared_sessions_df)"
   ],
   "metadata": {
    "collapsed": false,
    "pycharm": {
     "name": "#%%\n"
    }
   }
  },
  {
   "cell_type": "code",
   "execution_count": 42,
   "outputs": [],
   "source": [
    "model2.set_selected_users()\n",
    "model2.train()"
   ],
   "metadata": {
    "collapsed": false,
    "pycharm": {
     "name": "#%%\n"
    }
   }
  },
  {
   "cell_type": "code",
   "execution_count": 47,
   "outputs": [
    {
     "data": {
      "text/plain": "[array([15.73333333]),\n array([15.73333333]),\n array([15.73333333]),\n array([15.73333333]),\n array([15.73333333]),\n array([15.73333333]),\n array([15.73333333]),\n array([15.73333333]),\n array([15.73333333]),\n array([17.2]),\n array([15.]),\n array([15.]),\n array([15.]),\n array([15.]),\n array([15.]),\n array([15.]),\n array([15.]),\n array([15.]),\n array([18.13333333]),\n array([18.13333333]),\n array([18.13333333]),\n array([18.13333333]),\n array([18.13333333]),\n array([18.13333333]),\n array([18.13333333]),\n array([18.13333333]),\n array([18.13333333]),\n array([20.]),\n array([15.97544079]),\n array([15.97544079]),\n array([15.97544079]),\n array([15.97544079]),\n array([12.]),\n array([12.]),\n array([18.]),\n array([18.]),\n array([18.]),\n array([18.]),\n array([18.]),\n array([18.]),\n array([18.]),\n array([18.]),\n array([18.]),\n array([20.]),\n array([20.]),\n array([20.]),\n array([20.]),\n array([20.]),\n array([15.97544079]),\n array([19.36377102]),\n array([19.36377102]),\n array([19.36377102]),\n array([19.36377102]),\n array([15.]),\n array([15.]),\n array([15.]),\n array([15.]),\n array([15.]),\n array([15.]),\n array([15.]),\n array([15.]),\n array([15.]),\n array([20.]),\n array([20.]),\n array([20.]),\n array([20.]),\n array([20.]),\n array([17.9877204]),\n array([17.9877204]),\n array([17.9877204]),\n array([17.9877204]),\n array([17.9877204]),\n array([17.9877204]),\n array([17.9877204]),\n array([17.9877204]),\n array([17.9877204]),\n array([18.]),\n array([18.]),\n array([18.]),\n array([18.]),\n array([18.]),\n array([18.]),\n array([18.]),\n array([18.]),\n array([18.]),\n array([12.]),\n array([12.]),\n array([15.]),\n array([15.]),\n array([19.36377102]),\n array([19.36377102]),\n array([19.36377102]),\n array([19.36377102]),\n array([20.]),\n array([20.]),\n array([20.]),\n array([20.]),\n array([20.]),\n array([12.]),\n array([12.]),\n array([20.]),\n array([20.]),\n array([15.]),\n array([19.36377102]),\n array([19.36377102]),\n array([19.36377102]),\n array([19.36377102]),\n array([15.]),\n array([15.]),\n array([15.]),\n array([15.]),\n array([15.]),\n array([15.]),\n array([15.]),\n array([15.]),\n array([15.]),\n array([17.]),\n array([17.]),\n array([17.]),\n array([17.]),\n array([17.]),\n array([17.]),\n array([17.]),\n array([17.]),\n array([20.]),\n array([20.]),\n array([20.]),\n array([20.]),\n array([20.]),\n array([17.]),\n array([17.]),\n array([17.]),\n array([17.]),\n array([17.]),\n array([17.]),\n array([17.]),\n array([15.]),\n array([20.]),\n array([14.97150906]),\n array([14.97150906]),\n array([14.97150906]),\n array([14.97150906]),\n array([14.97150906]),\n array([14.97150906]),\n array([14.97150906]),\n array([14.97150906]),\n array([14.97150906]),\n array([10.]),\n array([10.]),\n array([10.]),\n array([10.]),\n array([20.]),\n array([20.]),\n array([10.]),\n array([10.]),\n array([10.]),\n array([10.]),\n array([10.]),\n array([14.17718272]),\n array([14.17718272]),\n array([10.]),\n array([10.]),\n array([10.]),\n array([10.]),\n array([10.]),\n array([10.]),\n array([10.]),\n array([10.]),\n array([10.]),\n array([10.]),\n array([10.]),\n array([10.]),\n array([10.]),\n array([10.]),\n array([10.]),\n array([10.]),\n array([10.]),\n array([10.]),\n array([10.]),\n array([10.]),\n array([20.]),\n array([14.97150906]),\n array([14.97150906]),\n array([14.97150906]),\n array([14.97150906]),\n array([14.97150906]),\n array([14.97150906]),\n array([14.97150906]),\n array([14.97150906]),\n array([14.97150906]),\n array([14.97150906]),\n array([14.97150906]),\n array([14.97150906]),\n array([14.97150906]),\n array([14.97150906]),\n array([14.97150906]),\n array([12.]),\n array([12.]),\n array([12.]),\n array([12.]),\n array([12.]),\n array([12.]),\n array([12.]),\n array([12.]),\n array([12.]),\n array([10.]),\n array([10.]),\n array([10.]),\n array([10.]),\n array([10.]),\n array([15.]),\n array([15.]),\n array([15.]),\n array([15.]),\n array([15.]),\n array([15.]),\n array([15.]),\n array([15.]),\n array([15.]),\n array([15.]),\n array([10.]),\n array([10.]),\n array([20.]),\n array([20.]),\n 0,\n 0,\n 0,\n 0,\n 0,\n 0,\n 0,\n 0,\n 0,\n 0,\n 0,\n 0,\n 0,\n 0,\n 0,\n 0,\n 0,\n 0,\n 0,\n 0,\n 0,\n 0,\n 0,\n 0,\n 0,\n 0,\n 0,\n 0,\n 0,\n 0,\n 0,\n 0,\n 0,\n 0,\n 0,\n 0,\n 0,\n 0,\n 0,\n 0,\n 0,\n 0,\n 0,\n 0,\n 0,\n 0,\n 0,\n 0,\n 0,\n 0,\n 0,\n 0,\n 0,\n 0,\n 0,\n 0,\n 0,\n 0,\n 0,\n 0,\n 0,\n 0,\n 0,\n 0,\n 0,\n 0,\n 0,\n 0,\n 0,\n 0,\n 0,\n 0,\n 0,\n 0,\n array([15.425]),\n array([15.425]),\n array([15.425]),\n array([15.425]),\n array([15.425]),\n array([10.]),\n array([10.]),\n array([10.]),\n array([10.]),\n array([10.]),\n array([10.]),\n array([10.]),\n array([10.]),\n array([10.]),\n array([15.425]),\n array([15.425]),\n array([15.425]),\n array([15.425]),\n array([15.425]),\n array([15.425]),\n array([15.425]),\n array([14.23333333]),\n array([10.]),\n array([10.]),\n array([10.]),\n array([10.]),\n array([10.]),\n array([10.]),\n array([10.]),\n array([10.]),\n array([10.]),\n array([10.]),\n array([10.]),\n array([10.]),\n array([10.]),\n array([10.]),\n array([10.]),\n array([10.]),\n array([20.]),\n array([20.]),\n array([20.]),\n array([20.]),\n array([20.]),\n array([20.]),\n array([20.]),\n array([20.]),\n array([20.]),\n array([20.]),\n array([20.]),\n array([20.]),\n array([20.]),\n array([20.]),\n array([20.]),\n array([20.]),\n array([20.]),\n array([20.]),\n array([20.]),\n array([20.]),\n array([20.]),\n array([20.]),\n array([20.]),\n array([20.]),\n array([20.]),\n array([20.]),\n array([20.]),\n array([20.]),\n array([20.]),\n array([20.]),\n array([20.]),\n array([20.]),\n array([20.]),\n array([20.]),\n array([20.]),\n array([20.]),\n array([20.]),\n array([20.]),\n array([20.]),\n array([20.]),\n array([20.]),\n array([20.]),\n array([20.]),\n array([20.]),\n array([20.]),\n array([20.]),\n array([20.]),\n array([20.]),\n array([20.]),\n array([20.]),\n array([20.]),\n array([20.]),\n array([20.]),\n array([20.]),\n array([20.]),\n array([20.]),\n array([20.]),\n array([20.]),\n array([20.]),\n array([20.]),\n array([20.]),\n array([20.]),\n array([20.]),\n array([20.]),\n array([20.]),\n array([20.]),\n array([20.]),\n array([20.]),\n array([20.]),\n array([20.]),\n array([20.]),\n array([20.]),\n array([20.]),\n array([20.]),\n array([20.]),\n array([20.]),\n array([20.]),\n array([20.]),\n array([20.]),\n array([20.]),\n array([20.]),\n array([20.]),\n array([10.]),\n array([10.]),\n array([11.99157303]),\n array([10.]),\n array([10.98876404]),\n array([10.98876404]),\n array([10.98876404]),\n array([10.98876404]),\n array([10.98876404]),\n array([10.98876404]),\n array([10.98876404]),\n array([10.98876404]),\n array([10.98876404]),\n array([10.]),\n array([10.]),\n array([10.]),\n array([10.]),\n array([10.]),\n array([10.]),\n array([10.]),\n array([10.]),\n array([10.]),\n array([10.]),\n array([10.]),\n array([10.]),\n array([10.]),\n array([10.]),\n array([10.]),\n array([10.]),\n array([10.]),\n array([10.]),\n array([10.]),\n array([10.]),\n array([10.]),\n array([10.]),\n array([10.]),\n array([10.]),\n array([10.]),\n array([10.]),\n array([10.]),\n array([10.]),\n array([10.]),\n array([11.09550562]),\n array([11.09550562]),\n array([11.09550562]),\n array([11.09550562]),\n array([11.09550562]),\n array([11.09550562]),\n array([11.09550562]),\n array([11.09550562]),\n array([11.09550562]),\n array([10.]),\n array([10.]),\n array([11.09550562]),\n array([20.]),\n array([20.]),\n array([20.]),\n array([20.]),\n array([10.]),\n array([10.]),\n array([10.]),\n array([10.98876404]),\n array([10.98876404]),\n array([10.98876404]),\n array([10.98876404]),\n array([10.98876404]),\n array([10.98876404]),\n array([10.98876404]),\n array([10.98876404]),\n array([10.98876404]),\n array([10.98876404]),\n array([20.]),\n array([20.]),\n array([20.]),\n array([20.]),\n array([20.]),\n array([20.]),\n array([20.]),\n array([20.]),\n array([20.]),\n array([20.]),\n array([10.]),\n array([10.]),\n array([10.]),\n array([10.]),\n array([12.73876404]),\n array([12.73876404]),\n array([12.73876404]),\n array([12.73876404]),\n array([12.73876404]),\n array([12.73876404]),\n array([12.73876404]),\n array([10.]),\n array([11.09550562]),\n array([10.]),\n array([19.21568627]),\n array([19.21568627]),\n array([19.21568627]),\n array([19.21568627]),\n array([19.21568627]),\n array([20.]),\n array([20.]),\n array([20.]),\n array([20.]),\n array([20.]),\n array([20.]),\n array([20.]),\n array([19.21568627]),\n array([19.21568627]),\n array([19.21568627]),\n array([20.]),\n array([20.]),\n array([18.05882353]),\n array([18.05882353]),\n array([18.05882353]),\n array([18.05882353]),\n array([18.05882353]),\n array([18.05882353]),\n array([18.05882353]),\n array([18.05882353]),\n array([18.05882353]),\n array([19.21568627]),\n array([19.21568627]),\n array([19.21568627]),\n array([19.21568627]),\n array([19.21568627]),\n array([19.21568627]),\n array([15.]),\n array([15.]),\n array([15.]),\n array([15.]),\n array([15.]),\n array([15.]),\n array([15.]),\n array([15.]),\n array([18.43137255]),\n array([18.43137255]),\n array([18.43137255]),\n array([18.43137255]),\n array([18.43137255]),\n array([18.43137255]),\n array([18.43137255]),\n array([18.43137255]),\n array([18.43137255]),\n array([19.21568627]),\n array([19.21568627]),\n array([18.05882353]),\n array([18.05882353]),\n array([18.05882353]),\n array([18.05882353]),\n array([18.05882353]),\n array([18.05882353]),\n array([18.05882353]),\n array([18.05882353]),\n array([18.05882353]),\n 0,\n 0,\n 0,\n 0,\n 0,\n 0,\n 0,\n 0,\n 0,\n 0,\n 0,\n 0,\n 0,\n 0,\n 0,\n 0,\n 0,\n 0,\n 0,\n 0,\n 0,\n 0,\n 0,\n 0,\n 0,\n 0,\n 0,\n 0,\n 0,\n 0,\n 0,\n 0,\n 0,\n 0,\n 0,\n 0,\n 0,\n 0,\n 0,\n 0,\n 0,\n 0,\n 0,\n 0,\n 0,\n 0,\n 0,\n 0,\n 0,\n array([20.]),\n array([20.]),\n array([20.]),\n array([17.26315789]),\n array([15.98245614]),\n array([15.98245614]),\n array([15.98245614]),\n array([15.98245614]),\n array([15.98245614]),\n array([15.98245614]),\n array([15.98245614]),\n array([15.98245614]),\n array([15.98245614]),\n array([12.]),\n array([12.]),\n array([20.]),\n array([20.]),\n array([12.]),\n array([15.98245614]),\n array([15.98245614]),\n array([15.98245614]),\n array([15.98245614]),\n array([15.98245614]),\n array([15.98245614]),\n array([15.98245614]),\n array([15.98245614]),\n array([15.98245614]),\n array([17.0877193]),\n array([17.0877193]),\n array([15.98245614]),\n array([15.98245614]),\n array([15.98245614]),\n array([15.98245614]),\n array([15.98245614]),\n array([15.98245614]),\n array([15.98245614]),\n array([15.98245614]),\n array([15.98245614]),\n array([15.98245614]),\n array([15.]),\n array([15.]),\n array([15.]),\n array([15.]),\n array([15.]),\n array([15.]),\n array([15.]),\n array([15.]),\n array([15.]),\n array([15.]),\n array([15.]),\n array([15.]),\n array([15.]),\n array([15.]),\n array([15.]),\n array([15.]),\n array([15.]),\n array([15.]),\n array([20.]),\n array([20.]),\n array([10.]),\n array([10.]),\n array([10.]),\n array([10.]),\n array([10.]),\n array([10.]),\n array([10.]),\n array([10.]),\n array([10.]),\n array([15.]),\n array([15.]),\n array([15.]),\n array([15.]),\n array([15.]),\n array([15.]),\n array([15.]),\n array([15.]),\n array([15.]),\n array([15.]),\n array([16.29721362]),\n array([16.29721362]),\n array([16.29721362]),\n array([16.29721362]),\n array([16.29721362]),\n array([16.29721362]),\n array([16.29721362]),\n array([16.29721362]),\n array([16.29721362]),\n array([15.]),\n array([15.]),\n array([15.]),\n array([15.]),\n array([15.]),\n array([15.]),\n array([15.]),\n array([15.]),\n array([15.]),\n array([15.]),\n array([15.]),\n array([15.]),\n array([15.]),\n array([15.]),\n array([15.]),\n array([15.]),\n array([15.]),\n array([15.]),\n array([15.]),\n array([15.]),\n array([15.]),\n array([15.]),\n array([15.]),\n array([15.]),\n array([15.]),\n array([15.]),\n array([15.]),\n array([15.]),\n array([15.]),\n array([15.]),\n array([15.]),\n array([15.]),\n array([10.]),\n array([10.]),\n array([10.]),\n array([10.]),\n array([10.]),\n array([10.]),\n array([10.]),\n array([10.]),\n array([10.]),\n array([11.11145511]),\n array([16.29721362]),\n array([16.29721362]),\n array([16.29721362]),\n array([16.29721362]),\n array([16.29721362]),\n array([16.29721362]),\n array([16.29721362]),\n array([16.29721362]),\n array([16.29721362]),\n array([16.29721362]),\n array([16.29721362]),\n array([16.29721362]),\n array([16.29721362]),\n array([16.29721362]),\n array([16.29721362]),\n array([16.29721362]),\n array([16.29721362]),\n array([16.29721362]),\n array([16.29721362]),\n array([20.]),\n array([20.]),\n array([20.]),\n array([20.]),\n array([20.]),\n array([20.]),\n array([20.]),\n array([20.]),\n array([20.]),\n array([20.]),\n array([20.]),\n array([20.]),\n array([20.]),\n array([20.]),\n array([20.]),\n array([20.]),\n array([20.]),\n array([20.]),\n array([20.]),\n array([20.]),\n array([20.]),\n array([20.]),\n array([20.]),\n array([20.]),\n array([20.]),\n array([20.]),\n array([20.]),\n array([20.]),\n array([20.]),\n array([20.]),\n array([20.]),\n array([20.]),\n array([20.]),\n array([20.]),\n array([20.]),\n array([20.]),\n array([20.]),\n array([20.]),\n array([20.]),\n array([20.]),\n array([20.]),\n array([20.]),\n array([20.]),\n array([20.]),\n array([20.]),\n 0,\n 0,\n 0,\n 0,\n 0,\n 0,\n 0,\n 0,\n 0,\n 0,\n 0,\n 0,\n 0,\n 0,\n 0,\n 0,\n 0,\n 0,\n 0,\n 0,\n 0,\n 0,\n 0,\n 0,\n 0,\n 0,\n 0,\n 0,\n 0,\n 0,\n 0,\n 0,\n 0,\n 0,\n 0,\n 0,\n 0,\n 0,\n 0,\n 0,\n 0,\n 0,\n 0,\n 0,\n 0,\n 0,\n array([20.]),\n array([20.]),\n array([20.]),\n array([20.]),\n array([20.]),\n array([20.]),\n array([20.]),\n array([20.]),\n array([20.]),\n array([20.]),\n array([20.]),\n array([20.]),\n array([20.]),\n array([20.]),\n array([20.]),\n array([20.]),\n array([20.]),\n array([20.]),\n array([20.]),\n array([20.]),\n array([20.]),\n array([20.]),\n array([20.]),\n array([20.]),\n array([20.]),\n array([20.]),\n array([20.]),\n array([20.]),\n array([20.]),\n array([20.]),\n array([20.]),\n array([20.]),\n array([20.]),\n array([20.]),\n array([20.]),\n array([20.]),\n array([20.]),\n array([20.]),\n array([20.]),\n array([20.]),\n array([20.]),\n array([20.]),\n array([20.]),\n array([20.]),\n array([20.]),\n array([20.]),\n array([20.]),\n array([20.]),\n array([20.]),\n array([20.]),\n array([20.]),\n array([20.]),\n array([20.]),\n array([20.]),\n array([20.]),\n array([20.]),\n array([20.]),\n array([20.]),\n array([20.]),\n array([20.]),\n array([20.]),\n array([20.]),\n array([20.]),\n array([20.]),\n array([20.]),\n array([20.]),\n array([20.]),\n array([20.]),\n array([20.]),\n array([20.]),\n array([20.]),\n array([20.]),\n array([20.]),\n array([20.]),\n array([20.]),\n array([20.]),\n array([20.]),\n array([20.]),\n array([20.]),\n array([20.]),\n array([20.]),\n array([20.]),\n array([20.]),\n array([20.]),\n array([20.]),\n array([20.]),\n array([20.]),\n array([20.]),\n array([20.]),\n array([20.]),\n array([20.]),\n array([20.]),\n array([20.]),\n array([20.]),\n array([20.]),\n array([20.]),\n array([20.]),\n array([20.]),\n array([20.]),\n array([20.]),\n array([20.]),\n array([20.]),\n array([20.]),\n array([20.]),\n array([20.]),\n array([20.]),\n array([20.]),\n array([20.]),\n array([20.]),\n array([20.]),\n array([20.]),\n array([20.]),\n array([20.]),\n array([20.]),\n array([20.]),\n array([20.]),\n array([20.]),\n array([20.]),\n array([20.]),\n array([20.]),\n array([20.]),\n array([20.]),\n array([20.]),\n array([20.]),\n array([20.]),\n array([20.]),\n array([20.]),\n array([20.]),\n array([20.]),\n array([20.]),\n array([20.]),\n array([20.]),\n array([20.]),\n array([20.]),\n array([20.]),\n array([20.]),\n array([20.]),\n array([20.]),\n array([20.]),\n ...]"
     },
     "execution_count": 47,
     "metadata": {},
     "output_type": "execute_result"
    }
   ],
   "source": [
    "discounts = []\n",
    "last_id = ''\n",
    "count = 0\n",
    "for index, row in cleared_test_sessions_df.iterrows():\n",
    "    if row['user_id'] not in model2.selected_users:\n",
    "        if row['user_id'] != last_id:\n",
    "            count = count + 1\n",
    "        last_id = row['user_id']\n",
    "        discounts.append(0)\n",
    "        continue\n",
    "    if model2.reg_list[int(row['user_id']) - 102 - count][1] == 0:\n",
    "        discounts.append(0)\n",
    "    else:\n",
    "        discounts.append(model2.reg_list[int(row['user_id']) - 102 - count][1].predict(model2.get_product_category([row['product_id']])))\n",
    "discounts"
   ],
   "metadata": {
    "collapsed": false,
    "pycharm": {
     "name": "#%%\n"
    }
   }
  }
 ],
 "metadata": {
  "kernelspec": {
   "display_name": "Python 3",
   "language": "python",
   "name": "python3"
  },
  "language_info": {
   "codemirror_mode": {
    "name": "ipython",
    "version": 3
   },
   "file_extension": ".py",
   "mimetype": "text/x-python",
   "name": "python",
   "nbconvert_exporter": "python",
   "pygments_lexer": "ipython3",
   "version": "3.6.8"
  }
 },
 "nbformat": 4,
 "nbformat_minor": 4
}