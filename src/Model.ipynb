{
 "cells": [
  {
   "cell_type": "code",
   "execution_count": 1,
   "metadata": {},
   "outputs": [],
   "source": [
    "import pandas as pd\n",
    "import numpy as np\n",
    "import copy\n",
    "from scipy.special import softmax\n",
    "import DataLoad as data\n",
    "from sklearn.ensemble import RandomForestClassifier\n",
    "from sklearn.model_selection import train_test_split\n",
    "from sklearn.metrics import confusion_matrix, precision_score\n",
    "from sklearn.metrics import recall_score, f1_score, accuracy_score"
   ]
  },
  {
   "cell_type": "code",
   "execution_count": 2,
   "metadata": {},
   "outputs": [],
   "source": [
    "def split_data(sessions, day_to_split= '2020-3-12'):\n",
    "    test = sessions_df.loc[sessions_df['timestamp'] > '2020-3-12']\n",
    "    train = sessions_df.loc[sessions_df['timestamp'] <= '2020-3-12']\n",
    "    return train, test"
   ]
  },
  {
   "cell_type": "code",
   "execution_count": 3,
   "metadata": {},
   "outputs": [],
   "source": [
    "sessions_df = data.load_sessions_data()\n",
    "train, test = split_data(sessions_df)"
   ]
  },
  {
   "cell_type": "code",
   "execution_count": 4,
   "metadata": {},
   "outputs": [],
   "source": [
    "users_df = data.load_users_data()\n",
    "products_df = data.load_products_data()"
   ]
  },
  {
   "cell_type": "code",
   "execution_count": 5,
   "metadata": {},
   "outputs": [],
   "source": [
    "class ClassificationModel:\n",
    "    \n",
    "    def __init__(self, n_estimators=20, max_depth=5, random_state=0):\n",
    "        self.n_estimators= n_estimators\n",
    "        self.max_depth = max_depth\n",
    "        self.random_state = random_state\n",
    "        self.clf = RandomForestClassifier(n_estimators = self.n_estimators, \n",
    "                                          max_depth = self.max_depth, \n",
    "                                          random_state = self.random_state)\n",
    "        \n",
    "    def train(self, users_df, sessions, products):\n",
    "        users = copy.deepcopy(users_df)\n",
    "        users = data.favourite_products(users, sessions, products)\n",
    "        users = data.spendings(users, sessions, products)\n",
    "        users = data.discounts_stats(users, sessions)\n",
    "        users = data.discounts_label(users, sessions)\n",
    "        users = users.set_index('user_id')\n",
    "        users = users.drop(['name', 'city', 'street',], axis=1)\n",
    "        users = users.fillna(0)\n",
    "        y_train = users['label']\n",
    "        X_train = users.drop('label', axis=1)\n",
    "        self.clf.fit(X_train, y_train)\n",
    "        \n",
    "    def predict(self, users_df, sessions, products):\n",
    "        users = copy.deepcopy(users_df)\n",
    "        users = data.favourite_products(users, sessions, products)\n",
    "        users = data.spendings(users, sessions, products)\n",
    "        users = data.discounts_stats(users, sessions)\n",
    "        users = users.set_index('user_id')\n",
    "        users = users.drop(['name', 'city', 'street',], axis=1)\n",
    "        users = users.fillna(0)\n",
    "        return self.clf.predict(users)"
   ]
  },
  {
   "cell_type": "code",
   "execution_count": 6,
   "metadata": {},
   "outputs": [],
   "source": [
    "model = ClassificationModel()"
   ]
  },
  {
   "cell_type": "code",
   "execution_count": 7,
   "metadata": {},
   "outputs": [],
   "source": [
    "model.train(users_df, train, products_df)"
   ]
  },
  {
   "cell_type": "code",
   "execution_count": 8,
   "metadata": {},
   "outputs": [
    {
     "data": {
      "text/plain": [
       "array([1, 1, 1, 1, 1, 1, 1, 1, 1, 1, 1, 1, 1, 1, 0, 1, 1, 1, 1, 1, 1, 1,\n",
       "       1, 1, 1, 1, 0, 1, 1, 1, 1, 1, 1, 1, 1, 1, 1, 1, 1, 1, 1, 1, 0, 1,\n",
       "       1, 0, 1, 1, 1, 1, 0, 1, 1, 0, 1, 1, 1, 1, 1, 0, 1, 1, 1, 1, 1, 1,\n",
       "       1, 1, 1, 0, 1, 1, 0, 0, 1, 1, 1, 1, 1, 1, 1, 1, 1, 1, 1, 0, 0, 1,\n",
       "       1, 1, 0, 1, 1, 1, 1, 1, 1, 1, 1, 0, 1, 1, 1, 1, 1, 1, 1, 1, 1, 1,\n",
       "       1, 1, 1, 1, 1, 0, 1, 1, 1, 1, 1, 1, 1, 1, 1, 1, 1, 0, 1, 1, 1, 1,\n",
       "       1, 1, 1, 1, 1, 1, 1, 1, 1, 1, 1, 1, 1, 1, 1, 1, 1, 1, 1, 1, 1, 1,\n",
       "       1, 1, 1, 1, 1, 1, 1, 1, 1, 1, 1, 1, 1, 1, 1, 0, 1, 1, 1, 1, 1, 1,\n",
       "       1, 1, 0, 1, 1, 1, 1, 1, 1, 1, 0, 1, 1, 1, 1, 0, 1, 1, 1, 1, 1, 1,\n",
       "       1, 1], dtype=int64)"
      ]
     },
     "execution_count": 8,
     "metadata": {},
     "output_type": "execute_result"
    }
   ],
   "source": [
    "model.predict(users_df, test, products_df)"
   ]
  }
 ],
 "metadata": {
  "kernelspec": {
   "display_name": "Python 3",
   "language": "python",
   "name": "python3"
  },
  "language_info": {
   "codemirror_mode": {
    "name": "ipython",
    "version": 3
   },
   "file_extension": ".py",
   "mimetype": "text/x-python",
   "name": "python",
   "nbconvert_exporter": "python",
   "pygments_lexer": "ipython3",
   "version": "3.6.8"
  }
 },
 "nbformat": 4,
 "nbformat_minor": 4
}
