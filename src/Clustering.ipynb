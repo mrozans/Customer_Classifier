{
 "cells": [
  {
   "cell_type": "code",
   "execution_count": 1,
   "metadata": {},
   "outputs": [],
   "source": [
    "import pandas as pd\n",
    "import numpy as np\n",
    "import DataLoad as data\n",
    "from sklearn.cluster import KMeans\n",
    "import matplotlib.pyplot as plt"
   ]
  },
  {
   "cell_type": "code",
   "execution_count": 2,
   "metadata": {},
   "outputs": [],
   "source": [
    "sessions_df = data.load_sessions_data()\n",
    "users_df = data.load_users_data()"
   ]
  },
  {
   "cell_type": "code",
   "execution_count": 3,
   "metadata": {},
   "outputs": [],
   "source": [
    "users_buys = []\n",
    "users_visits = []\n",
    "mad = []\n",
    "mrd = []\n",
    "\n",
    "for i in users_df['user_id']:\n",
    "    users_buys.append(data.user_buys(i, sessions_df))\n",
    "    users_visits.append(data.user_visits(i, sessions_df))\n",
    "    mad.append(data.mean_accepted_discount(i, sessions_df))\n",
    "    mrd.append(data.mean_rejected_discounts(i, sessions_df))\n",
    "    \n",
    "users_df['total_buys'] = users_buys\n",
    "users_df['total_visits'] = users_visits\n",
    "users_df['m_accepted_discounts'] = mad\n",
    "users_df['m_rejected_discounts'] = mrd"
   ]
  },
  {
   "cell_type": "markdown",
   "metadata": {},
   "source": [
    "Using K-Means to clustering"
   ]
  },
  {
   "cell_type": "code",
   "execution_count": 4,
   "metadata": {},
   "outputs": [
    {
     "data": {
      "text/plain": "<Figure size 432x288 with 1 Axes>",
      "image/png": "[encoded data removed]"
     },
     "metadata": {
      "needs_background": "light"
     },
     "output_type": "display_data"
    }
   ],
   "source": [
    "X = users_df[['total_buys', 'total_visits', 'm_accepted_discounts', 'm_rejected_discounts']].fillna(0)\n",
    "wcss = []\n",
    "for i in range(1,11):\n",
    "    km=KMeans(n_clusters=i,init='k-means++', max_iter=300, n_init=10, random_state=0)\n",
    "    km.fit(X)\n",
    "    wcss.append(km.inertia_)\n",
    "plt.plot(range(1,11),wcss)\n",
    "plt.title('Elbow Method')\n",
    "plt.xlabel('Number of clusters')\n",
    "plt.ylabel('wcss')\n",
    "plt.show()"
   ]
  },
  {
   "cell_type": "code",
   "execution_count": 5,
   "metadata": {},
   "outputs": [],
   "source": [
    "km5 = KMeans(n_clusters=5,init='k-means++', max_iter=300, n_init=10, random_state=0)\n",
    "y_means = km5.fit_predict(X)"
   ]
  },
  {
   "cell_type": "code",
   "execution_count": 6,
   "metadata": {},
   "outputs": [
    {
     "data": {
      "text/plain": "array([4, 3, 0, 0, 2, 3, 0, 1, 2, 2, 3, 0, 1, 1, 4, 0, 2, 3, 1, 4, 0, 4,\n       2, 1, 1, 4, 4, 4, 4, 2, 1, 1, 3, 4, 0, 1, 0, 1, 1, 1, 1, 4, 0, 3,\n       3, 0, 0, 1, 1, 1, 0, 4, 1, 0, 4, 1, 3, 1, 0, 4, 3, 4, 1, 1, 2, 1,\n       4, 0, 4, 0, 1, 2, 1, 0, 1, 1, 1, 4, 1, 2, 3, 0, 2, 0, 1, 2, 0, 1,\n       3, 1, 0, 0, 1, 2, 4, 0, 2, 1, 1, 0, 3, 1, 3, 1, 2, 0, 1, 3, 4, 3,\n       3, 2, 2, 0, 0, 3, 3, 0, 1, 4, 4, 1, 1, 1, 1, 0, 0, 2, 0, 3, 1, 3,\n       2, 4, 3, 0, 0, 1, 1, 1, 2, 2, 3, 4, 3, 4, 4, 4, 2, 4, 1, 3, 0, 4,\n       2, 2, 3, 3, 0, 3, 0, 4, 4, 1, 3, 4, 2, 2, 4, 3, 0, 2, 2, 0, 2, 2,\n       1, 1, 0, 3, 2, 3, 2, 2, 0, 3, 3, 1, 3, 0, 3, 4, 2, 2, 2, 2, 3, 1,\n       1, 0])"
     },
     "execution_count": 6,
     "metadata": {},
     "output_type": "execute_result"
    }
   ],
   "source": [
    "y_means"
   ]
  }
 ],
 "metadata": {
  "kernelspec": {
   "display_name": "Python 3",
   "language": "python",
   "name": "python3"
  },
  "language_info": {
   "codemirror_mode": {
    "name": "ipython",
    "version": 3
   },
   "file_extension": ".py",
   "mimetype": "text/x-python",
   "name": "python",
   "nbconvert_exporter": "python",
   "pygments_lexer": "ipython3",
   "version": "3.6.8"
  }
 },
 "nbformat": 4,
 "nbformat_minor": 4
}